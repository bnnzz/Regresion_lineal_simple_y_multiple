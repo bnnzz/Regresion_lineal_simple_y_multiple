{
 "cells": [
  {
   "cell_type": "code",
   "execution_count": 1,
   "metadata": {},
   "outputs": [],
   "source": [
    "import pandas as pd \n",
    "import numpy as np \n",
    "import matplotlib.pyplot as plt \n",
    "import seaborn as sns"
   ]
  },
  {
   "cell_type": "code",
   "execution_count": 2,
   "metadata": {},
   "outputs": [
    {
     "data": {
      "text/html": [
       "<div>\n",
       "<style scoped>\n",
       "    .dataframe tbody tr th:only-of-type {\n",
       "        vertical-align: middle;\n",
       "    }\n",
       "\n",
       "    .dataframe tbody tr th {\n",
       "        vertical-align: top;\n",
       "    }\n",
       "\n",
       "    .dataframe thead th {\n",
       "        text-align: right;\n",
       "    }\n",
       "</style>\n",
       "<table border=\"1\" class=\"dataframe\">\n",
       "  <thead>\n",
       "    <tr style=\"text-align: right;\">\n",
       "      <th></th>\n",
       "      <th>Unnamed: 0</th>\n",
       "      <th>last_scraped</th>\n",
       "      <th>host_name</th>\n",
       "      <th>host_since</th>\n",
       "      <th>host_location</th>\n",
       "      <th>host_response_time</th>\n",
       "      <th>host_response_rate</th>\n",
       "      <th>host_acceptance_rate</th>\n",
       "      <th>host_is_superhost</th>\n",
       "      <th>host_has_profile_pic</th>\n",
       "      <th>...</th>\n",
       "      <th>number_of_reviews_l30d</th>\n",
       "      <th>review_scores_rating</th>\n",
       "      <th>review_scores_accuracy</th>\n",
       "      <th>review_scores_cleanliness</th>\n",
       "      <th>review_scores_checkin</th>\n",
       "      <th>review_scores_location</th>\n",
       "      <th>calculated_host_listings_count_entire_homes</th>\n",
       "      <th>calculated_host_listings_count_private_rooms</th>\n",
       "      <th>calculated_host_listings_count_shared_rooms</th>\n",
       "      <th>reviews_per_month</th>\n",
       "    </tr>\n",
       "  </thead>\n",
       "  <tbody>\n",
       "    <tr>\n",
       "      <th>0</th>\n",
       "      <td>0</td>\n",
       "      <td>2024-09-30</td>\n",
       "      <td>Manuela</td>\n",
       "      <td>2010-08-06</td>\n",
       "      <td>Sant Lluís, Spain</td>\n",
       "      <td>within an hour</td>\n",
       "      <td>100%</td>\n",
       "      <td>100%</td>\n",
       "      <td>t</td>\n",
       "      <td>t</td>\n",
       "      <td>...</td>\n",
       "      <td>0.0</td>\n",
       "      <td>4.65</td>\n",
       "      <td>4.76</td>\n",
       "      <td>4.62</td>\n",
       "      <td>4.75</td>\n",
       "      <td>4.75</td>\n",
       "      <td>3.0</td>\n",
       "      <td>0.0</td>\n",
       "      <td>0.0</td>\n",
       "      <td>0.14</td>\n",
       "    </tr>\n",
       "    <tr>\n",
       "      <th>1</th>\n",
       "      <td>1</td>\n",
       "      <td>2024-09-30</td>\n",
       "      <td>Yolanda</td>\n",
       "      <td>2011-04-26</td>\n",
       "      <td>Barcelona, Spain</td>\n",
       "      <td>within a few hours</td>\n",
       "      <td>100%</td>\n",
       "      <td>94%</td>\n",
       "      <td>f</td>\n",
       "      <td>t</td>\n",
       "      <td>...</td>\n",
       "      <td>2.0</td>\n",
       "      <td>4.69</td>\n",
       "      <td>4.77</td>\n",
       "      <td>4.68</td>\n",
       "      <td>4.75</td>\n",
       "      <td>4.77</td>\n",
       "      <td>1.0</td>\n",
       "      <td>0.0</td>\n",
       "      <td>0.0</td>\n",
       "      <td>0.40</td>\n",
       "    </tr>\n",
       "    <tr>\n",
       "      <th>2</th>\n",
       "      <td>2</td>\n",
       "      <td>2024-09-30</td>\n",
       "      <td>Natalia</td>\n",
       "      <td>2010-12-07</td>\n",
       "      <td>Madrid, Spain</td>\n",
       "      <td>a few days or more</td>\n",
       "      <td>20%</td>\n",
       "      <td>0%</td>\n",
       "      <td>f</td>\n",
       "      <td>t</td>\n",
       "      <td>...</td>\n",
       "      <td>0.0</td>\n",
       "      <td>4.55</td>\n",
       "      <td>4.45</td>\n",
       "      <td>4.27</td>\n",
       "      <td>4.50</td>\n",
       "      <td>4.50</td>\n",
       "      <td>3.0</td>\n",
       "      <td>0.0</td>\n",
       "      <td>0.0</td>\n",
       "      <td>0.10</td>\n",
       "    </tr>\n",
       "    <tr>\n",
       "      <th>3</th>\n",
       "      <td>3</td>\n",
       "      <td>2024-09-30</td>\n",
       "      <td>Natalia</td>\n",
       "      <td>2010-12-07</td>\n",
       "      <td>Madrid, Spain</td>\n",
       "      <td>a few days or more</td>\n",
       "      <td>20%</td>\n",
       "      <td>0%</td>\n",
       "      <td>f</td>\n",
       "      <td>t</td>\n",
       "      <td>...</td>\n",
       "      <td>0.0</td>\n",
       "      <td>4.83</td>\n",
       "      <td>4.79</td>\n",
       "      <td>4.54</td>\n",
       "      <td>4.65</td>\n",
       "      <td>4.70</td>\n",
       "      <td>3.0</td>\n",
       "      <td>0.0</td>\n",
       "      <td>0.0</td>\n",
       "      <td>0.16</td>\n",
       "    </tr>\n",
       "    <tr>\n",
       "      <th>4</th>\n",
       "      <td>4</td>\n",
       "      <td>2024-09-30</td>\n",
       "      <td>Emilio</td>\n",
       "      <td>2012-02-12</td>\n",
       "      <td>Torrent, Spain</td>\n",
       "      <td>within an hour</td>\n",
       "      <td>100%</td>\n",
       "      <td>83%</td>\n",
       "      <td>t</td>\n",
       "      <td>t</td>\n",
       "      <td>...</td>\n",
       "      <td>2.0</td>\n",
       "      <td>4.99</td>\n",
       "      <td>4.96</td>\n",
       "      <td>4.99</td>\n",
       "      <td>4.95</td>\n",
       "      <td>4.94</td>\n",
       "      <td>1.0</td>\n",
       "      <td>0.0</td>\n",
       "      <td>0.0</td>\n",
       "      <td>0.53</td>\n",
       "    </tr>\n",
       "  </tbody>\n",
       "</table>\n",
       "<p>5 rows × 51 columns</p>\n",
       "</div>"
      ],
      "text/plain": [
       "   Unnamed: 0 last_scraped host_name  host_since      host_location  \\\n",
       "0           0   2024-09-30   Manuela  2010-08-06  Sant Lluís, Spain   \n",
       "1           1   2024-09-30   Yolanda  2011-04-26   Barcelona, Spain   \n",
       "2           2   2024-09-30   Natalia  2010-12-07      Madrid, Spain   \n",
       "3           3   2024-09-30   Natalia  2010-12-07      Madrid, Spain   \n",
       "4           4   2024-09-30    Emilio  2012-02-12     Torrent, Spain   \n",
       "\n",
       "   host_response_time host_response_rate host_acceptance_rate  \\\n",
       "0      within an hour               100%                 100%   \n",
       "1  within a few hours               100%                  94%   \n",
       "2  a few days or more                20%                   0%   \n",
       "3  a few days or more                20%                   0%   \n",
       "4      within an hour               100%                  83%   \n",
       "\n",
       "  host_is_superhost host_has_profile_pic  ... number_of_reviews_l30d  \\\n",
       "0                 t                    t  ...                    0.0   \n",
       "1                 f                    t  ...                    2.0   \n",
       "2                 f                    t  ...                    0.0   \n",
       "3                 f                    t  ...                    0.0   \n",
       "4                 t                    t  ...                    2.0   \n",
       "\n",
       "  review_scores_rating review_scores_accuracy review_scores_cleanliness  \\\n",
       "0                 4.65                   4.76                      4.62   \n",
       "1                 4.69                   4.77                      4.68   \n",
       "2                 4.55                   4.45                      4.27   \n",
       "3                 4.83                   4.79                      4.54   \n",
       "4                 4.99                   4.96                      4.99   \n",
       "\n",
       "  review_scores_checkin review_scores_location  \\\n",
       "0                  4.75                   4.75   \n",
       "1                  4.75                   4.77   \n",
       "2                  4.50                   4.50   \n",
       "3                  4.65                   4.70   \n",
       "4                  4.95                   4.94   \n",
       "\n",
       "  calculated_host_listings_count_entire_homes  \\\n",
       "0                                         3.0   \n",
       "1                                         1.0   \n",
       "2                                         3.0   \n",
       "3                                         3.0   \n",
       "4                                         1.0   \n",
       "\n",
       "  calculated_host_listings_count_private_rooms  \\\n",
       "0                                          0.0   \n",
       "1                                          0.0   \n",
       "2                                          0.0   \n",
       "3                                          0.0   \n",
       "4                                          0.0   \n",
       "\n",
       "  calculated_host_listings_count_shared_rooms reviews_per_month  \n",
       "0                                         0.0              0.14  \n",
       "1                                         0.0              0.40  \n",
       "2                                         0.0              0.10  \n",
       "3                                         0.0              0.16  \n",
       "4                                         0.0              0.53  \n",
       "\n",
       "[5 rows x 51 columns]"
      ]
     },
     "execution_count": 2,
     "metadata": {},
     "output_type": "execute_result"
    }
   ],
   "source": [
    "#cargar archivo desde seaborn \n",
    "df=pd.read_csv('spain_menorca_procesado_outliers (2) (1).csv')\n",
    "df.head(5)"
   ]
  },
  {
   "cell_type": "code",
   "execution_count": 3,
   "metadata": {},
   "outputs": [
    {
     "data": {
      "text/html": [
       "<div>\n",
       "<style scoped>\n",
       "    .dataframe tbody tr th:only-of-type {\n",
       "        vertical-align: middle;\n",
       "    }\n",
       "\n",
       "    .dataframe tbody tr th {\n",
       "        vertical-align: top;\n",
       "    }\n",
       "\n",
       "    .dataframe thead th {\n",
       "        text-align: right;\n",
       "    }\n",
       "</style>\n",
       "<table border=\"1\" class=\"dataframe\">\n",
       "  <thead>\n",
       "    <tr style=\"text-align: right;\">\n",
       "      <th></th>\n",
       "      <th>last_scraped</th>\n",
       "      <th>host_name</th>\n",
       "      <th>host_since</th>\n",
       "      <th>host_location</th>\n",
       "      <th>host_response_time</th>\n",
       "      <th>host_response_rate</th>\n",
       "      <th>host_acceptance_rate</th>\n",
       "      <th>host_is_superhost</th>\n",
       "      <th>host_has_profile_pic</th>\n",
       "      <th>host_identity_verified</th>\n",
       "      <th>...</th>\n",
       "      <th>number_of_reviews_l30d</th>\n",
       "      <th>review_scores_rating</th>\n",
       "      <th>review_scores_accuracy</th>\n",
       "      <th>review_scores_cleanliness</th>\n",
       "      <th>review_scores_checkin</th>\n",
       "      <th>review_scores_location</th>\n",
       "      <th>calculated_host_listings_count_entire_homes</th>\n",
       "      <th>calculated_host_listings_count_private_rooms</th>\n",
       "      <th>calculated_host_listings_count_shared_rooms</th>\n",
       "      <th>reviews_per_month</th>\n",
       "    </tr>\n",
       "  </thead>\n",
       "  <tbody>\n",
       "    <tr>\n",
       "      <th>0</th>\n",
       "      <td>2024-09-30</td>\n",
       "      <td>Manuela</td>\n",
       "      <td>2010-08-06</td>\n",
       "      <td>Sant Lluís, Spain</td>\n",
       "      <td>within an hour</td>\n",
       "      <td>100%</td>\n",
       "      <td>100%</td>\n",
       "      <td>t</td>\n",
       "      <td>t</td>\n",
       "      <td>t</td>\n",
       "      <td>...</td>\n",
       "      <td>0.0</td>\n",
       "      <td>4.65</td>\n",
       "      <td>4.76</td>\n",
       "      <td>4.62</td>\n",
       "      <td>4.75</td>\n",
       "      <td>4.75</td>\n",
       "      <td>3.0</td>\n",
       "      <td>0.0</td>\n",
       "      <td>0.0</td>\n",
       "      <td>0.14</td>\n",
       "    </tr>\n",
       "    <tr>\n",
       "      <th>1</th>\n",
       "      <td>2024-09-30</td>\n",
       "      <td>Yolanda</td>\n",
       "      <td>2011-04-26</td>\n",
       "      <td>Barcelona, Spain</td>\n",
       "      <td>within a few hours</td>\n",
       "      <td>100%</td>\n",
       "      <td>94%</td>\n",
       "      <td>f</td>\n",
       "      <td>t</td>\n",
       "      <td>t</td>\n",
       "      <td>...</td>\n",
       "      <td>2.0</td>\n",
       "      <td>4.69</td>\n",
       "      <td>4.77</td>\n",
       "      <td>4.68</td>\n",
       "      <td>4.75</td>\n",
       "      <td>4.77</td>\n",
       "      <td>1.0</td>\n",
       "      <td>0.0</td>\n",
       "      <td>0.0</td>\n",
       "      <td>0.40</td>\n",
       "    </tr>\n",
       "    <tr>\n",
       "      <th>2</th>\n",
       "      <td>2024-09-30</td>\n",
       "      <td>Natalia</td>\n",
       "      <td>2010-12-07</td>\n",
       "      <td>Madrid, Spain</td>\n",
       "      <td>a few days or more</td>\n",
       "      <td>20%</td>\n",
       "      <td>0%</td>\n",
       "      <td>f</td>\n",
       "      <td>t</td>\n",
       "      <td>t</td>\n",
       "      <td>...</td>\n",
       "      <td>0.0</td>\n",
       "      <td>4.55</td>\n",
       "      <td>4.45</td>\n",
       "      <td>4.27</td>\n",
       "      <td>4.50</td>\n",
       "      <td>4.50</td>\n",
       "      <td>3.0</td>\n",
       "      <td>0.0</td>\n",
       "      <td>0.0</td>\n",
       "      <td>0.10</td>\n",
       "    </tr>\n",
       "    <tr>\n",
       "      <th>3</th>\n",
       "      <td>2024-09-30</td>\n",
       "      <td>Natalia</td>\n",
       "      <td>2010-12-07</td>\n",
       "      <td>Madrid, Spain</td>\n",
       "      <td>a few days or more</td>\n",
       "      <td>20%</td>\n",
       "      <td>0%</td>\n",
       "      <td>f</td>\n",
       "      <td>t</td>\n",
       "      <td>t</td>\n",
       "      <td>...</td>\n",
       "      <td>0.0</td>\n",
       "      <td>4.83</td>\n",
       "      <td>4.79</td>\n",
       "      <td>4.54</td>\n",
       "      <td>4.65</td>\n",
       "      <td>4.70</td>\n",
       "      <td>3.0</td>\n",
       "      <td>0.0</td>\n",
       "      <td>0.0</td>\n",
       "      <td>0.16</td>\n",
       "    </tr>\n",
       "    <tr>\n",
       "      <th>4</th>\n",
       "      <td>2024-09-30</td>\n",
       "      <td>Emilio</td>\n",
       "      <td>2012-02-12</td>\n",
       "      <td>Torrent, Spain</td>\n",
       "      <td>within an hour</td>\n",
       "      <td>100%</td>\n",
       "      <td>83%</td>\n",
       "      <td>t</td>\n",
       "      <td>t</td>\n",
       "      <td>t</td>\n",
       "      <td>...</td>\n",
       "      <td>2.0</td>\n",
       "      <td>4.99</td>\n",
       "      <td>4.96</td>\n",
       "      <td>4.99</td>\n",
       "      <td>4.95</td>\n",
       "      <td>4.94</td>\n",
       "      <td>1.0</td>\n",
       "      <td>0.0</td>\n",
       "      <td>0.0</td>\n",
       "      <td>0.53</td>\n",
       "    </tr>\n",
       "  </tbody>\n",
       "</table>\n",
       "<p>5 rows × 50 columns</p>\n",
       "</div>"
      ],
      "text/plain": [
       "  last_scraped host_name  host_since      host_location  host_response_time  \\\n",
       "0   2024-09-30   Manuela  2010-08-06  Sant Lluís, Spain      within an hour   \n",
       "1   2024-09-30   Yolanda  2011-04-26   Barcelona, Spain  within a few hours   \n",
       "2   2024-09-30   Natalia  2010-12-07      Madrid, Spain  a few days or more   \n",
       "3   2024-09-30   Natalia  2010-12-07      Madrid, Spain  a few days or more   \n",
       "4   2024-09-30    Emilio  2012-02-12     Torrent, Spain      within an hour   \n",
       "\n",
       "  host_response_rate host_acceptance_rate host_is_superhost  \\\n",
       "0               100%                 100%                 t   \n",
       "1               100%                  94%                 f   \n",
       "2                20%                   0%                 f   \n",
       "3                20%                   0%                 f   \n",
       "4               100%                  83%                 t   \n",
       "\n",
       "  host_has_profile_pic host_identity_verified  ... number_of_reviews_l30d  \\\n",
       "0                    t                      t  ...                    0.0   \n",
       "1                    t                      t  ...                    2.0   \n",
       "2                    t                      t  ...                    0.0   \n",
       "3                    t                      t  ...                    0.0   \n",
       "4                    t                      t  ...                    2.0   \n",
       "\n",
       "  review_scores_rating review_scores_accuracy review_scores_cleanliness  \\\n",
       "0                 4.65                   4.76                      4.62   \n",
       "1                 4.69                   4.77                      4.68   \n",
       "2                 4.55                   4.45                      4.27   \n",
       "3                 4.83                   4.79                      4.54   \n",
       "4                 4.99                   4.96                      4.99   \n",
       "\n",
       "  review_scores_checkin review_scores_location  \\\n",
       "0                  4.75                   4.75   \n",
       "1                  4.75                   4.77   \n",
       "2                  4.50                   4.50   \n",
       "3                  4.65                   4.70   \n",
       "4                  4.95                   4.94   \n",
       "\n",
       "  calculated_host_listings_count_entire_homes  \\\n",
       "0                                         3.0   \n",
       "1                                         1.0   \n",
       "2                                         3.0   \n",
       "3                                         3.0   \n",
       "4                                         1.0   \n",
       "\n",
       "  calculated_host_listings_count_private_rooms  \\\n",
       "0                                          0.0   \n",
       "1                                          0.0   \n",
       "2                                          0.0   \n",
       "3                                          0.0   \n",
       "4                                          0.0   \n",
       "\n",
       "  calculated_host_listings_count_shared_rooms reviews_per_month  \n",
       "0                                         0.0              0.14  \n",
       "1                                         0.0              0.40  \n",
       "2                                         0.0              0.10  \n",
       "3                                         0.0              0.16  \n",
       "4                                         0.0              0.53  \n",
       "\n",
       "[5 rows x 50 columns]"
      ]
     },
     "execution_count": 3,
     "metadata": {},
     "output_type": "execute_result"
    }
   ],
   "source": [
    "#eliminamos la columna unnamed \n",
    "df= df.drop(['Unnamed: 0'], axis=1)\n",
    "df.head(5)"
   ]
  },
  {
   "cell_type": "code",
   "execution_count": 4,
   "metadata": {},
   "outputs": [
    {
     "name": "stdout",
     "output_type": "stream",
     "text": [
      "Index(['last_scraped', 'host_name', 'host_since', 'host_location',\n",
      "       'host_response_time', 'host_response_rate', 'host_acceptance_rate',\n",
      "       'host_is_superhost', 'host_has_profile_pic', 'host_identity_verified',\n",
      "       'property_type', 'room_type', 'bathrooms_text', 'price',\n",
      "       'has_availability', 'calendar_last_scraped', 'first_review',\n",
      "       'last_review', 'license', 'instant_bookable', 'id', 'host_id',\n",
      "       'host_listings_count', 'host_total_listings_count', 'accommodates',\n",
      "       'bathrooms', 'bedrooms', 'beds', 'minimum_nights', 'maximum_nights',\n",
      "       'minimum_minimum_nights', 'maximum_minimum_nights',\n",
      "       'minimum_maximum_nights', 'maximum_maximum_nights',\n",
      "       'minimum_nights_avg_ntm', 'maximum_nights_avg_ntm', 'availability_30',\n",
      "       'availability_90', 'number_of_reviews', 'number_of_reviews_ltm',\n",
      "       'number_of_reviews_l30d', 'review_scores_rating',\n",
      "       'review_scores_accuracy', 'review_scores_cleanliness',\n",
      "       'review_scores_checkin', 'review_scores_location',\n",
      "       'calculated_host_listings_count_entire_homes',\n",
      "       'calculated_host_listings_count_private_rooms',\n",
      "       'calculated_host_listings_count_shared_rooms', 'reviews_per_month'],\n",
      "      dtype='object')\n"
     ]
    }
   ],
   "source": [
    "print(df.columns)"
   ]
  },
  {
   "cell_type": "code",
   "execution_count": 5,
   "metadata": {},
   "outputs": [
    {
     "name": "stdout",
     "output_type": "stream",
     "text": [
      "['Entire home/apt' 'Private room' 'Hotel room' 'Shared room']\n"
     ]
    }
   ],
   "source": [
    "# Mostrar las variables únicas de la columna 'roomtype'\n",
    "print(df['room_type'].unique())"
   ]
  },
  {
   "cell_type": "code",
   "execution_count": 6,
   "metadata": {},
   "outputs": [
    {
     "data": {
      "text/html": [
       "<div>\n",
       "<style scoped>\n",
       "    .dataframe tbody tr th:only-of-type {\n",
       "        vertical-align: middle;\n",
       "    }\n",
       "\n",
       "    .dataframe tbody tr th {\n",
       "        vertical-align: top;\n",
       "    }\n",
       "\n",
       "    .dataframe thead th {\n",
       "        text-align: right;\n",
       "    }\n",
       "</style>\n",
       "<table border=\"1\" class=\"dataframe\">\n",
       "  <thead>\n",
       "    <tr style=\"text-align: right;\">\n",
       "      <th></th>\n",
       "      <th>host_acceptance_rate</th>\n",
       "      <th>host_is_superhost</th>\n",
       "      <th>host_identity_verified</th>\n",
       "      <th>property_type</th>\n",
       "      <th>room_type</th>\n",
       "      <th>price</th>\n",
       "      <th>instant_bookable</th>\n",
       "      <th>accommodates</th>\n",
       "      <th>bathrooms</th>\n",
       "      <th>review_scores_cleanliness</th>\n",
       "    </tr>\n",
       "  </thead>\n",
       "  <tbody>\n",
       "    <tr>\n",
       "      <th>0</th>\n",
       "      <td>100%</td>\n",
       "      <td>t</td>\n",
       "      <td>t</td>\n",
       "      <td>Entire home</td>\n",
       "      <td>Entire home/apt</td>\n",
       "      <td>$408.00</td>\n",
       "      <td>f</td>\n",
       "      <td>6.0</td>\n",
       "      <td>2.0</td>\n",
       "      <td>4.62</td>\n",
       "    </tr>\n",
       "    <tr>\n",
       "      <th>1</th>\n",
       "      <td>94%</td>\n",
       "      <td>f</td>\n",
       "      <td>t</td>\n",
       "      <td>Entire rental unit</td>\n",
       "      <td>Entire home/apt</td>\n",
       "      <td>$64.00</td>\n",
       "      <td>f</td>\n",
       "      <td>4.0</td>\n",
       "      <td>1.0</td>\n",
       "      <td>4.68</td>\n",
       "    </tr>\n",
       "    <tr>\n",
       "      <th>2</th>\n",
       "      <td>0%</td>\n",
       "      <td>f</td>\n",
       "      <td>t</td>\n",
       "      <td>Entire home</td>\n",
       "      <td>Entire home/apt</td>\n",
       "      <td>$567.00</td>\n",
       "      <td>f</td>\n",
       "      <td>5.1</td>\n",
       "      <td>1.7</td>\n",
       "      <td>4.27</td>\n",
       "    </tr>\n",
       "    <tr>\n",
       "      <th>3</th>\n",
       "      <td>0%</td>\n",
       "      <td>f</td>\n",
       "      <td>t</td>\n",
       "      <td>Entire cottage</td>\n",
       "      <td>Entire home/apt</td>\n",
       "      <td>$1,125.00</td>\n",
       "      <td>f</td>\n",
       "      <td>5.1</td>\n",
       "      <td>1.7</td>\n",
       "      <td>4.54</td>\n",
       "    </tr>\n",
       "    <tr>\n",
       "      <th>4</th>\n",
       "      <td>83%</td>\n",
       "      <td>t</td>\n",
       "      <td>t</td>\n",
       "      <td>Entire condo</td>\n",
       "      <td>Entire home/apt</td>\n",
       "      <td>$69.00</td>\n",
       "      <td>f</td>\n",
       "      <td>4.0</td>\n",
       "      <td>1.0</td>\n",
       "      <td>4.99</td>\n",
       "    </tr>\n",
       "    <tr>\n",
       "      <th>...</th>\n",
       "      <td>...</td>\n",
       "      <td>...</td>\n",
       "      <td>...</td>\n",
       "      <td>...</td>\n",
       "      <td>...</td>\n",
       "      <td>...</td>\n",
       "      <td>...</td>\n",
       "      <td>...</td>\n",
       "      <td>...</td>\n",
       "      <td>...</td>\n",
       "    </tr>\n",
       "    <tr>\n",
       "      <th>3940</th>\n",
       "      <td>99%</td>\n",
       "      <td>f</td>\n",
       "      <td>f</td>\n",
       "      <td>Entire home</td>\n",
       "      <td>Entire home/apt</td>\n",
       "      <td>$9,999.00</td>\n",
       "      <td>t</td>\n",
       "      <td>8.0</td>\n",
       "      <td>3.0</td>\n",
       "      <td>4.60</td>\n",
       "    </tr>\n",
       "    <tr>\n",
       "      <th>3941</th>\n",
       "      <td>99%</td>\n",
       "      <td>f</td>\n",
       "      <td>f</td>\n",
       "      <td>Entire home</td>\n",
       "      <td>Entire home/apt</td>\n",
       "      <td>$9,999.00</td>\n",
       "      <td>t</td>\n",
       "      <td>6.0</td>\n",
       "      <td>2.0</td>\n",
       "      <td>4.60</td>\n",
       "    </tr>\n",
       "    <tr>\n",
       "      <th>3942</th>\n",
       "      <td>99%</td>\n",
       "      <td>f</td>\n",
       "      <td>f</td>\n",
       "      <td>Entire home</td>\n",
       "      <td>Entire home/apt</td>\n",
       "      <td>$9,999.00</td>\n",
       "      <td>t</td>\n",
       "      <td>8.0</td>\n",
       "      <td>1.7</td>\n",
       "      <td>4.60</td>\n",
       "    </tr>\n",
       "    <tr>\n",
       "      <th>3943</th>\n",
       "      <td>99%</td>\n",
       "      <td>f</td>\n",
       "      <td>f</td>\n",
       "      <td>Entire home</td>\n",
       "      <td>Entire home/apt</td>\n",
       "      <td>$9,999.00</td>\n",
       "      <td>t</td>\n",
       "      <td>6.0</td>\n",
       "      <td>2.0</td>\n",
       "      <td>4.60</td>\n",
       "    </tr>\n",
       "    <tr>\n",
       "      <th>3944</th>\n",
       "      <td>99%</td>\n",
       "      <td>f</td>\n",
       "      <td>t</td>\n",
       "      <td>Entire villa</td>\n",
       "      <td>Entire home/apt</td>\n",
       "      <td>$470.00</td>\n",
       "      <td>t</td>\n",
       "      <td>8.0</td>\n",
       "      <td>1.7</td>\n",
       "      <td>4.60</td>\n",
       "    </tr>\n",
       "  </tbody>\n",
       "</table>\n",
       "<p>3945 rows × 10 columns</p>\n",
       "</div>"
      ],
      "text/plain": [
       "     host_acceptance_rate host_is_superhost host_identity_verified  \\\n",
       "0                    100%                 t                      t   \n",
       "1                     94%                 f                      t   \n",
       "2                      0%                 f                      t   \n",
       "3                      0%                 f                      t   \n",
       "4                     83%                 t                      t   \n",
       "...                   ...               ...                    ...   \n",
       "3940                  99%                 f                      f   \n",
       "3941                  99%                 f                      f   \n",
       "3942                  99%                 f                      f   \n",
       "3943                  99%                 f                      f   \n",
       "3944                  99%                 f                      t   \n",
       "\n",
       "           property_type        room_type      price instant_bookable  \\\n",
       "0            Entire home  Entire home/apt    $408.00                f   \n",
       "1     Entire rental unit  Entire home/apt     $64.00                f   \n",
       "2            Entire home  Entire home/apt    $567.00                f   \n",
       "3         Entire cottage  Entire home/apt  $1,125.00                f   \n",
       "4           Entire condo  Entire home/apt     $69.00                f   \n",
       "...                  ...              ...        ...              ...   \n",
       "3940         Entire home  Entire home/apt  $9,999.00                t   \n",
       "3941         Entire home  Entire home/apt  $9,999.00                t   \n",
       "3942         Entire home  Entire home/apt  $9,999.00                t   \n",
       "3943         Entire home  Entire home/apt  $9,999.00                t   \n",
       "3944        Entire villa  Entire home/apt    $470.00                t   \n",
       "\n",
       "      accommodates  bathrooms  review_scores_cleanliness  \n",
       "0              6.0        2.0                       4.62  \n",
       "1              4.0        1.0                       4.68  \n",
       "2              5.1        1.7                       4.27  \n",
       "3              5.1        1.7                       4.54  \n",
       "4              4.0        1.0                       4.99  \n",
       "...            ...        ...                        ...  \n",
       "3940           8.0        3.0                       4.60  \n",
       "3941           6.0        2.0                       4.60  \n",
       "3942           8.0        1.7                       4.60  \n",
       "3943           6.0        2.0                       4.60  \n",
       "3944           8.0        1.7                       4.60  \n",
       "\n",
       "[3945 rows x 10 columns]"
      ]
     },
     "execution_count": 6,
     "metadata": {},
     "output_type": "execute_result"
    }
   ],
   "source": [
    "#ontenemos las variables que se pedian\n",
    "f1=df.iloc[ :  , [6, 7, 9, 10, 11,  13, 19, 24, 25, 43] ]\n",
    "f1"
   ]
  },
  {
   "cell_type": "code",
   "execution_count": 7,
   "metadata": {},
   "outputs": [
    {
     "name": "stderr",
     "output_type": "stream",
     "text": [
      "C:\\Users\\ben31\\AppData\\Local\\Temp\\ipykernel_23184\\1393523451.py:2: FutureWarning: Downcasting behavior in `replace` is deprecated and will be removed in a future version. To retain the old behavior, explicitly call `result.infer_objects(copy=False)`. To opt-in to the future behavior, set `pd.set_option('future.no_silent_downcasting', True)`\n",
      "  f1['host_is_superhost'] = f1['host_is_superhost'].replace({'f': 0, 't': 1})\n",
      "C:\\Users\\ben31\\AppData\\Local\\Temp\\ipykernel_23184\\1393523451.py:2: SettingWithCopyWarning: \n",
      "A value is trying to be set on a copy of a slice from a DataFrame.\n",
      "Try using .loc[row_indexer,col_indexer] = value instead\n",
      "\n",
      "See the caveats in the documentation: https://pandas.pydata.org/pandas-docs/stable/user_guide/indexing.html#returning-a-view-versus-a-copy\n",
      "  f1['host_is_superhost'] = f1['host_is_superhost'].replace({'f': 0, 't': 1})\n",
      "C:\\Users\\ben31\\AppData\\Local\\Temp\\ipykernel_23184\\1393523451.py:3: FutureWarning: Downcasting behavior in `replace` is deprecated and will be removed in a future version. To retain the old behavior, explicitly call `result.infer_objects(copy=False)`. To opt-in to the future behavior, set `pd.set_option('future.no_silent_downcasting', True)`\n",
      "  f1['host_identity_verified'] = f1['host_identity_verified'].replace({'f': 0, 't': 1})\n",
      "C:\\Users\\ben31\\AppData\\Local\\Temp\\ipykernel_23184\\1393523451.py:3: SettingWithCopyWarning: \n",
      "A value is trying to be set on a copy of a slice from a DataFrame.\n",
      "Try using .loc[row_indexer,col_indexer] = value instead\n",
      "\n",
      "See the caveats in the documentation: https://pandas.pydata.org/pandas-docs/stable/user_guide/indexing.html#returning-a-view-versus-a-copy\n",
      "  f1['host_identity_verified'] = f1['host_identity_verified'].replace({'f': 0, 't': 1})\n",
      "C:\\Users\\ben31\\AppData\\Local\\Temp\\ipykernel_23184\\1393523451.py:4: FutureWarning: Downcasting behavior in `replace` is deprecated and will be removed in a future version. To retain the old behavior, explicitly call `result.infer_objects(copy=False)`. To opt-in to the future behavior, set `pd.set_option('future.no_silent_downcasting', True)`\n",
      "  f1['instant_bookable'] = f1['instant_bookable'].replace({'f': 0, 't': 1})\n",
      "C:\\Users\\ben31\\AppData\\Local\\Temp\\ipykernel_23184\\1393523451.py:4: SettingWithCopyWarning: \n",
      "A value is trying to be set on a copy of a slice from a DataFrame.\n",
      "Try using .loc[row_indexer,col_indexer] = value instead\n",
      "\n",
      "See the caveats in the documentation: https://pandas.pydata.org/pandas-docs/stable/user_guide/indexing.html#returning-a-view-versus-a-copy\n",
      "  f1['instant_bookable'] = f1['instant_bookable'].replace({'f': 0, 't': 1})\n"
     ]
    }
   ],
   "source": [
    "#convertimos string a tipos numéricos\n",
    "f1['host_is_superhost'] = f1['host_is_superhost'].replace({'f': 0, 't': 1})\n",
    "f1['host_identity_verified'] = f1['host_identity_verified'].replace({'f': 0, 't': 1})\n",
    "f1['instant_bookable'] = f1['instant_bookable'].replace({'f': 0, 't': 1})"
   ]
  },
  {
   "cell_type": "code",
   "execution_count": 8,
   "metadata": {},
   "outputs": [
    {
     "name": "stderr",
     "output_type": "stream",
     "text": [
      "C:\\Users\\ben31\\AppData\\Local\\Temp\\ipykernel_23184\\844680829.py:4: SettingWithCopyWarning: \n",
      "A value is trying to be set on a copy of a slice from a DataFrame.\n",
      "Try using .loc[row_indexer,col_indexer] = value instead\n",
      "\n",
      "See the caveats in the documentation: https://pandas.pydata.org/pandas-docs/stable/user_guide/indexing.html#returning-a-view-versus-a-copy\n",
      "  f1['property_type'] = encoder.fit_transform(f1['property_type'])\n",
      "C:\\Users\\ben31\\AppData\\Local\\Temp\\ipykernel_23184\\844680829.py:5: SettingWithCopyWarning: \n",
      "A value is trying to be set on a copy of a slice from a DataFrame.\n",
      "Try using .loc[row_indexer,col_indexer] = value instead\n",
      "\n",
      "See the caveats in the documentation: https://pandas.pydata.org/pandas-docs/stable/user_guide/indexing.html#returning-a-view-versus-a-copy\n",
      "  f1['property_type'] = f1['property_type'].astype(float)\n"
     ]
    }
   ],
   "source": [
    "from sklearn.preprocessing import LabelEncoder\n",
    "\n",
    "encoder = LabelEncoder()\n",
    "f1['property_type'] = encoder.fit_transform(f1['property_type'])\n",
    "f1['property_type'] = f1['property_type'].astype(float)\n",
    "\n"
   ]
  },
  {
   "cell_type": "code",
   "execution_count": 9,
   "metadata": {},
   "outputs": [
    {
     "name": "stderr",
     "output_type": "stream",
     "text": [
      "C:\\Users\\ben31\\AppData\\Local\\Temp\\ipykernel_23184\\717134614.py:1: SettingWithCopyWarning: \n",
      "A value is trying to be set on a copy of a slice from a DataFrame.\n",
      "Try using .loc[row_indexer,col_indexer] = value instead\n",
      "\n",
      "See the caveats in the documentation: https://pandas.pydata.org/pandas-docs/stable/user_guide/indexing.html#returning-a-view-versus-a-copy\n",
      "  f1['host_acceptance_rate'] = f1['host_acceptance_rate'].astype(str).str.rstrip('%')\n",
      "C:\\Users\\ben31\\AppData\\Local\\Temp\\ipykernel_23184\\717134614.py:2: SettingWithCopyWarning: \n",
      "A value is trying to be set on a copy of a slice from a DataFrame.\n",
      "Try using .loc[row_indexer,col_indexer] = value instead\n",
      "\n",
      "See the caveats in the documentation: https://pandas.pydata.org/pandas-docs/stable/user_guide/indexing.html#returning-a-view-versus-a-copy\n",
      "  f1['host_acceptance_rate'] = pd.to_numeric(f1['host_acceptance_rate'], errors='coerce').fillna(0)\n"
     ]
    }
   ],
   "source": [
    "f1['host_acceptance_rate'] = f1['host_acceptance_rate'].astype(str).str.rstrip('%')\n",
    "f1['host_acceptance_rate'] = pd.to_numeric(f1['host_acceptance_rate'], errors='coerce').fillna(0)"
   ]
  },
  {
   "cell_type": "code",
   "execution_count": 10,
   "metadata": {},
   "outputs": [
    {
     "name": "stderr",
     "output_type": "stream",
     "text": [
      "C:\\Users\\ben31\\AppData\\Local\\Temp\\ipykernel_23184\\1367152709.py:2: SettingWithCopyWarning: \n",
      "A value is trying to be set on a copy of a slice from a DataFrame.\n",
      "Try using .loc[row_indexer,col_indexer] = value instead\n",
      "\n",
      "See the caveats in the documentation: https://pandas.pydata.org/pandas-docs/stable/user_guide/indexing.html#returning-a-view-versus-a-copy\n",
      "  f1['room_type'] = f1['room_type'].map({\n"
     ]
    }
   ],
   "source": [
    "# Asignamos valores numéricos a cada categoría de room_type\n",
    "f1['room_type'] = f1['room_type'].map({\n",
    "    'Entire home/apt': 1,\n",
    "    'Private room': 2,\n",
    "    'Shared room': 3,\n",
    "    'Hotel room': 4\n",
    "})"
   ]
  },
  {
   "cell_type": "code",
   "execution_count": 11,
   "metadata": {},
   "outputs": [
    {
     "name": "stdout",
     "output_type": "stream",
     "text": [
      "0      $408.00\n",
      "1       $64.00\n",
      "2      $567.00\n",
      "3    $1,125.00\n",
      "4       $69.00\n",
      "Name: price, dtype: object\n"
     ]
    }
   ],
   "source": [
    "print(f1['price'].head())\n"
   ]
  },
  {
   "cell_type": "code",
   "execution_count": 12,
   "metadata": {},
   "outputs": [
    {
     "name": "stderr",
     "output_type": "stream",
     "text": [
      "C:\\Users\\ben31\\AppData\\Local\\Temp\\ipykernel_23184\\3874669253.py:1: SettingWithCopyWarning: \n",
      "A value is trying to be set on a copy of a slice from a DataFrame.\n",
      "Try using .loc[row_indexer,col_indexer] = value instead\n",
      "\n",
      "See the caveats in the documentation: https://pandas.pydata.org/pandas-docs/stable/user_guide/indexing.html#returning-a-view-versus-a-copy\n",
      "  f1['price'] = f1['price'].astype(str).str.replace(r'[\\$,]', '', regex=True)\n",
      "C:\\Users\\ben31\\AppData\\Local\\Temp\\ipykernel_23184\\3874669253.py:2: SettingWithCopyWarning: \n",
      "A value is trying to be set on a copy of a slice from a DataFrame.\n",
      "Try using .loc[row_indexer,col_indexer] = value instead\n",
      "\n",
      "See the caveats in the documentation: https://pandas.pydata.org/pandas-docs/stable/user_guide/indexing.html#returning-a-view-versus-a-copy\n",
      "  f1['price'] = pd.to_numeric(f1['price'], errors='coerce').fillna(0)\n"
     ]
    }
   ],
   "source": [
    "f1['price'] = f1['price'].astype(str).str.replace(r'[\\$,]', '', regex=True)\n",
    "f1['price'] = pd.to_numeric(f1['price'], errors='coerce').fillna(0)\n",
    "\n"
   ]
  },
  {
   "cell_type": "code",
   "execution_count": 13,
   "metadata": {},
   "outputs": [
    {
     "name": "stdout",
     "output_type": "stream",
     "text": [
      "0     408.0\n",
      "1      64.0\n",
      "2     567.0\n",
      "3    1125.0\n",
      "4      69.0\n",
      "Name: price, dtype: float64\n"
     ]
    }
   ],
   "source": [
    "print(f1['price'].head())"
   ]
  },
  {
   "cell_type": "code",
   "execution_count": 15,
   "metadata": {},
   "outputs": [
    {
     "data": {
      "text/html": [
       "<div>\n",
       "<style scoped>\n",
       "    .dataframe tbody tr th:only-of-type {\n",
       "        vertical-align: middle;\n",
       "    }\n",
       "\n",
       "    .dataframe tbody tr th {\n",
       "        vertical-align: top;\n",
       "    }\n",
       "\n",
       "    .dataframe thead th {\n",
       "        text-align: right;\n",
       "    }\n",
       "</style>\n",
       "<table border=\"1\" class=\"dataframe\">\n",
       "  <thead>\n",
       "    <tr style=\"text-align: right;\">\n",
       "      <th></th>\n",
       "      <th>host_acceptance_rate</th>\n",
       "      <th>host_is_superhost</th>\n",
       "      <th>host_identity_verified</th>\n",
       "      <th>property_type</th>\n",
       "      <th>room_type</th>\n",
       "      <th>price</th>\n",
       "      <th>instant_bookable</th>\n",
       "      <th>accommodates</th>\n",
       "      <th>bathrooms</th>\n",
       "      <th>review_scores_cleanliness</th>\n",
       "    </tr>\n",
       "  </thead>\n",
       "  <tbody>\n",
       "    <tr>\n",
       "      <th>3071</th>\n",
       "      <td>100</td>\n",
       "      <td>0</td>\n",
       "      <td>1</td>\n",
       "      <td>48.0</td>\n",
       "      <td>3</td>\n",
       "      <td>154.0</td>\n",
       "      <td>0</td>\n",
       "      <td>1.0</td>\n",
       "      <td>1.8</td>\n",
       "      <td>4.6</td>\n",
       "    </tr>\n",
       "    <tr>\n",
       "      <th>3101</th>\n",
       "      <td>100</td>\n",
       "      <td>0</td>\n",
       "      <td>1</td>\n",
       "      <td>46.0</td>\n",
       "      <td>3</td>\n",
       "      <td>58.0</td>\n",
       "      <td>0</td>\n",
       "      <td>1.0</td>\n",
       "      <td>1.8</td>\n",
       "      <td>4.6</td>\n",
       "    </tr>\n",
       "    <tr>\n",
       "      <th>3678</th>\n",
       "      <td>81</td>\n",
       "      <td>0</td>\n",
       "      <td>1</td>\n",
       "      <td>47.0</td>\n",
       "      <td>3</td>\n",
       "      <td>155.0</td>\n",
       "      <td>0</td>\n",
       "      <td>4.0</td>\n",
       "      <td>1.0</td>\n",
       "      <td>4.6</td>\n",
       "    </tr>\n",
       "  </tbody>\n",
       "</table>\n",
       "</div>"
      ],
      "text/plain": [
       "      host_acceptance_rate  host_is_superhost  host_identity_verified  \\\n",
       "3071                   100                  0                       1   \n",
       "3101                   100                  0                       1   \n",
       "3678                    81                  0                       1   \n",
       "\n",
       "      property_type  room_type  price  instant_bookable  accommodates  \\\n",
       "3071           48.0          3  154.0                 0           1.0   \n",
       "3101           46.0          3   58.0                 0           1.0   \n",
       "3678           47.0          3  155.0                 0           4.0   \n",
       "\n",
       "      bathrooms  review_scores_cleanliness  \n",
       "3071        1.8                        4.6  \n",
       "3101        1.8                        4.6  \n",
       "3678        1.0                        4.6  "
      ]
     },
     "execution_count": 15,
     "metadata": {},
     "output_type": "execute_result"
    }
   ],
   "source": [
    "#f2 = Entire home/apt\n",
    "f2= f1[(f1[\"room_type\"] == 3)]\n",
    "f2"
   ]
  },
  {
   "cell_type": "code",
   "execution_count": 16,
   "metadata": {},
   "outputs": [
    {
     "name": "stdout",
     "output_type": "stream",
     "text": [
      "<class 'pandas.core.frame.DataFrame'>\n",
      "Index: 3 entries, 3071 to 3678\n",
      "Data columns (total 10 columns):\n",
      " #   Column                     Non-Null Count  Dtype  \n",
      "---  ------                     --------------  -----  \n",
      " 0   host_acceptance_rate       3 non-null      int64  \n",
      " 1   host_is_superhost          3 non-null      int64  \n",
      " 2   host_identity_verified     3 non-null      int64  \n",
      " 3   property_type              3 non-null      float64\n",
      " 4   room_type                  3 non-null      int64  \n",
      " 5   price                      3 non-null      float64\n",
      " 6   instant_bookable           3 non-null      int64  \n",
      " 7   accommodates               3 non-null      float64\n",
      " 8   bathrooms                  3 non-null      float64\n",
      " 9   review_scores_cleanliness  3 non-null      float64\n",
      "dtypes: float64(5), int64(5)\n",
      "memory usage: 264.0 bytes\n"
     ]
    }
   ],
   "source": [
    "f2.info()"
   ]
  },
  {
   "cell_type": "code",
   "execution_count": 17,
   "metadata": {},
   "outputs": [
    {
     "data": {
      "text/plain": [
       "<Axes: xlabel='room_type', ylabel='price'>"
      ]
     },
     "execution_count": 17,
     "metadata": {},
     "output_type": "execute_result"
    },
    {
     "data": {
      "image/png": "[encoded data removed]",
      "text/plain": [
       "<Figure size 640x480 with 1 Axes>"
      ]
     },
     "metadata": {},
     "output_type": "display_data"
    }
   ],
   "source": [
    "#imprimimos el scatter plot entre la variable dependiente total e independiente (a)\n",
    "#para observar el comportamiento en su dispersión \n",
    "\n",
    "from turtle import color \n",
    "\n",
    "sns.scatterplot(x='room_type', y='price', color='blue', data=f2)\n",
    "sns.scatterplot(x='host_acceptance_rate', y='price', color='red', data=f2)"
   ]
  },
  {
   "cell_type": "code",
   "execution_count": 18,
   "metadata": {},
   "outputs": [
    {
     "data": {
      "text/plain": [
       "<Axes: xlabel='room_type', ylabel='price'>"
      ]
     },
     "execution_count": 18,
     "metadata": {},
     "output_type": "execute_result"
    },
    {
     "data": {
      "image/png": "[encoded data removed]",
      "text/plain": [
       "<Figure size 640x480 with 1 Axes>"
      ]
     },
     "metadata": {},
     "output_type": "display_data"
    }
   ],
   "source": [
    "from turtle import color \n",
    "\n",
    "sns.scatterplot(x='room_type', y='price', color='blue', data=f2)\n",
    "sns.scatterplot(x='host_is_superhost', y='price', color='red', data=f2)"
   ]
  },
  {
   "cell_type": "code",
   "execution_count": 19,
   "metadata": {},
   "outputs": [
    {
     "data": {
      "text/plain": [
       "<Axes: xlabel='room_type', ylabel='price'>"
      ]
     },
     "execution_count": 19,
     "metadata": {},
     "output_type": "execute_result"
    },
    {
     "data": {
      "image/png": "[encoded data removed]",
      "text/plain": [
       "<Figure size 640x480 with 1 Axes>"
      ]
     },
     "metadata": {},
     "output_type": "display_data"
    }
   ],
   "source": [
    "\n",
    "\n",
    "sns.scatterplot(x='room_type', y='price', color='blue', data=f2)\n",
    "sns.scatterplot(x='host_identity_verified', y='price', color='red', data=f2)"
   ]
  },
  {
   "cell_type": "code",
   "execution_count": 20,
   "metadata": {},
   "outputs": [
    {
     "data": {
      "text/plain": [
       "<Axes: xlabel='room_type', ylabel='price'>"
      ]
     },
     "execution_count": 20,
     "metadata": {},
     "output_type": "execute_result"
    },
    {
     "data": {
      "image/png": "[encoded data removed]",
      "text/plain": [
       "<Figure size 640x480 with 1 Axes>"
      ]
     },
     "metadata": {},
     "output_type": "display_data"
    }
   ],
   "source": [
    "from turtle import color \n",
    "\n",
    "sns.scatterplot(x='room_type', y='price', color='blue', data=f2)\n",
    "sns.scatterplot(x='property_type', y='price', color='red', data=f2)"
   ]
  },
  {
   "cell_type": "code",
   "execution_count": 21,
   "metadata": {},
   "outputs": [
    {
     "data": {
      "text/plain": [
       "<Axes: xlabel='room_type', ylabel='price'>"
      ]
     },
     "execution_count": 21,
     "metadata": {},
     "output_type": "execute_result"
    },
    {
     "data": {
      "image/png": "[encoded data removed]",
      "text/plain": [
       "<Figure size 640x480 with 1 Axes>"
      ]
     },
     "metadata": {},
     "output_type": "display_data"
    }
   ],
   "source": [
    "from turtle import color \n",
    "\n",
    "sns.scatterplot(x='room_type', y='price', color='blue', data=f2)\n",
    "sns.scatterplot(x='room_type', y='price', color='red', data=f2)"
   ]
  },
  {
   "cell_type": "code",
   "execution_count": 22,
   "metadata": {},
   "outputs": [
    {
     "data": {
      "text/plain": [
       "<Axes: xlabel='room_type', ylabel='price'>"
      ]
     },
     "execution_count": 22,
     "metadata": {},
     "output_type": "execute_result"
    },
    {
     "data": {
      "image/png": "[encoded data removed]",
      "text/plain": [
       "<Figure size 640x480 with 1 Axes>"
      ]
     },
     "metadata": {},
     "output_type": "display_data"
    }
   ],
   "source": [
    "from turtle import color \n",
    "\n",
    "sns.scatterplot(x='room_type', y='price', color='blue', data=f2)\n",
    "sns.scatterplot(x='instant_bookable', y='price', color='red', data=f2)"
   ]
  },
  {
   "cell_type": "code",
   "execution_count": 23,
   "metadata": {},
   "outputs": [
    {
     "data": {
      "text/plain": [
       "<Axes: xlabel='room_type', ylabel='price'>"
      ]
     },
     "execution_count": 23,
     "metadata": {},
     "output_type": "execute_result"
    },
    {
     "data": {
      "image/png": "[encoded data removed]",
      "text/plain": [
       "<Figure size 640x480 with 1 Axes>"
      ]
     },
     "metadata": {},
     "output_type": "display_data"
    }
   ],
   "source": [
    "from turtle import color \n",
    "\n",
    "sns.scatterplot(x='room_type', y='price', color='blue', data=f2)\n",
    "sns.scatterplot(x='review_scores_cleanliness', y='price', color='red', data=f2)"
   ]
  },
  {
   "cell_type": "code",
   "execution_count": 24,
   "metadata": {},
   "outputs": [
    {
     "data": {
      "text/plain": [
       "<Axes: xlabel='room_type', ylabel='accommodates'>"
      ]
     },
     "execution_count": 24,
     "metadata": {},
     "output_type": "execute_result"
    },
    {
     "data": {
      "image/png": "[encoded data removed]",
      "text/plain": [
       "<Figure size 640x480 with 1 Axes>"
      ]
     },
     "metadata": {},
     "output_type": "display_data"
    }
   ],
   "source": [
    "from turtle import color \n",
    "\n",
    "sns.scatterplot(x='room_type', y='accommodates', color='blue', data=f2)\n",
    "sns.scatterplot(x='bathrooms', y='accommodates', color='red', data=f2)"
   ]
  },
  {
   "cell_type": "markdown",
   "metadata": {},
   "source": [
    "*declaramos las varibales depoendientes e independientes para la regresion lineal*"
   ]
  },
  {
   "cell_type": "code",
   "execution_count": 25,
   "metadata": {},
   "outputs": [],
   "source": [
    "#declaración de las variables independientes que se van a comparar con el precio \n",
    "Var_Indep= f2[['host_acceptance_rate']]\n",
    "Var_Indep2=f2[['host_is_superhost']]\n",
    "Var_Indep3=f2[['room_type']]\n",
    "Var_Indep4=f2[['host_identity_verified']]\n",
    "Var_Indep5= f2[['property_type']]\n",
    "Var_Indep6= f2[['instant_bookable']]\n",
    "Var_Indep7= f2[['review_scores_cleanliness']]\n",
    "#declaración de variable independiente para accommodates \n",
    "Var_Indep8= f2[['bathrooms']]"
   ]
  },
  {
   "cell_type": "code",
   "execution_count": 26,
   "metadata": {},
   "outputs": [],
   "source": [
    "#variables independientes para la regresión lineal\n",
    "Var_Dep= f2['price']\n",
    "Var_Dep2= f2['accommodates']"
   ]
  },
  {
   "cell_type": "markdown",
   "metadata": {},
   "source": [
    "*se define model como la funcion de regreso lineal*"
   ]
  },
  {
   "cell_type": "code",
   "execution_count": 27,
   "metadata": {},
   "outputs": [],
   "source": [
    "#se define model como función de regresión lineal \n",
    "from sklearn.linear_model import LinearRegression \n",
    "model=LinearRegression()\n",
    "model2=LinearRegression()\n",
    "model3=LinearRegression()\n",
    "model4=LinearRegression()\n",
    "model5=LinearRegression()\n",
    "model6=LinearRegression()\n",
    "model7=LinearRegression()\n",
    "model8=LinearRegression()"
   ]
  },
  {
   "cell_type": "code",
   "execution_count": 28,
   "metadata": {},
   "outputs": [
    {
     "data": {
      "text/plain": [
       "sklearn.linear_model._base.LinearRegression"
      ]
     },
     "execution_count": 28,
     "metadata": {},
     "output_type": "execute_result"
    }
   ],
   "source": [
    "#verficamos la función relacionada al modelo \n",
    "type(model)\n",
    "type(model2)\n",
    "type(model3)\n",
    "type(model4)\n",
    "type(model5)\n",
    "type(model6)\n",
    "type(model7)\n",
    "type(model8)"
   ]
  },
  {
   "cell_type": "code",
   "execution_count": 29,
   "metadata": {},
   "outputs": [
    {
     "data": {
      "text/html": [
       "<style>#sk-container-id-1 {\n",
       "  /* Definition of color scheme common for light and dark mode */\n",
       "  --sklearn-color-text: #000;\n",
       "  --sklearn-color-text-muted: #666;\n",
       "  --sklearn-color-line: gray;\n",
       "  /* Definition of color scheme for unfitted estimators */\n",
       "  --sklearn-color-unfitted-level-0: #fff5e6;\n",
       "  --sklearn-color-unfitted-level-1: #f6e4d2;\n",
       "  --sklearn-color-unfitted-level-2: #ffe0b3;\n",
       "  --sklearn-color-unfitted-level-3: chocolate;\n",
       "  /* Definition of color scheme for fitted estimators */\n",
       "  --sklearn-color-fitted-level-0: #f0f8ff;\n",
       "  --sklearn-color-fitted-level-1: #d4ebff;\n",
       "  --sklearn-color-fitted-level-2: #b3dbfd;\n",
       "  --sklearn-color-fitted-level-3: cornflowerblue;\n",
       "\n",
       "  /* Specific color for light theme */\n",
       "  --sklearn-color-text-on-default-background: var(--sg-text-color, var(--theme-code-foreground, var(--jp-content-font-color1, black)));\n",
       "  --sklearn-color-background: var(--sg-background-color, var(--theme-background, var(--jp-layout-color0, white)));\n",
       "  --sklearn-color-border-box: var(--sg-text-color, var(--theme-code-foreground, var(--jp-content-font-color1, black)));\n",
       "  --sklearn-color-icon: #696969;\n",
       "\n",
       "  @media (prefers-color-scheme: dark) {\n",
       "    /* Redefinition of color scheme for dark theme */\n",
       "    --sklearn-color-text-on-default-background: var(--sg-text-color, var(--theme-code-foreground, var(--jp-content-font-color1, white)));\n",
       "    --sklearn-color-background: var(--sg-background-color, var(--theme-background, var(--jp-layout-color0, #111)));\n",
       "    --sklearn-color-border-box: var(--sg-text-color, var(--theme-code-foreground, var(--jp-content-font-color1, white)));\n",
       "    --sklearn-color-icon: #878787;\n",
       "  }\n",
       "}\n",
       "\n",
       "#sk-container-id-1 {\n",
       "  color: var(--sklearn-color-text);\n",
       "}\n",
       "\n",
       "#sk-container-id-1 pre {\n",
       "  padding: 0;\n",
       "}\n",
       "\n",
       "#sk-container-id-1 input.sk-hidden--visually {\n",
       "  border: 0;\n",
       "  clip: rect(1px 1px 1px 1px);\n",
       "  clip: rect(1px, 1px, 1px, 1px);\n",
       "  height: 1px;\n",
       "  margin: -1px;\n",
       "  overflow: hidden;\n",
       "  padding: 0;\n",
       "  position: absolute;\n",
       "  width: 1px;\n",
       "}\n",
       "\n",
       "#sk-container-id-1 div.sk-dashed-wrapped {\n",
       "  border: 1px dashed var(--sklearn-color-line);\n",
       "  margin: 0 0.4em 0.5em 0.4em;\n",
       "  box-sizing: border-box;\n",
       "  padding-bottom: 0.4em;\n",
       "  background-color: var(--sklearn-color-background);\n",
       "}\n",
       "\n",
       "#sk-container-id-1 div.sk-container {\n",
       "  /* jupyter's `normalize.less` sets `[hidden] { display: none; }`\n",
       "     but bootstrap.min.css set `[hidden] { display: none !important; }`\n",
       "     so we also need the `!important` here to be able to override the\n",
       "     default hidden behavior on the sphinx rendered scikit-learn.org.\n",
       "     See: https://github.com/scikit-learn/scikit-learn/issues/21755 */\n",
       "  display: inline-block !important;\n",
       "  position: relative;\n",
       "}\n",
       "\n",
       "#sk-container-id-1 div.sk-text-repr-fallback {\n",
       "  display: none;\n",
       "}\n",
       "\n",
       "div.sk-parallel-item,\n",
       "div.sk-serial,\n",
       "div.sk-item {\n",
       "  /* draw centered vertical line to link estimators */\n",
       "  background-image: linear-gradient(var(--sklearn-color-text-on-default-background), var(--sklearn-color-text-on-default-background));\n",
       "  background-size: 2px 100%;\n",
       "  background-repeat: no-repeat;\n",
       "  background-position: center center;\n",
       "}\n",
       "\n",
       "/* Parallel-specific style estimator block */\n",
       "\n",
       "#sk-container-id-1 div.sk-parallel-item::after {\n",
       "  content: \"\";\n",
       "  width: 100%;\n",
       "  border-bottom: 2px solid var(--sklearn-color-text-on-default-background);\n",
       "  flex-grow: 1;\n",
       "}\n",
       "\n",
       "#sk-container-id-1 div.sk-parallel {\n",
       "  display: flex;\n",
       "  align-items: stretch;\n",
       "  justify-content: center;\n",
       "  background-color: var(--sklearn-color-background);\n",
       "  position: relative;\n",
       "}\n",
       "\n",
       "#sk-container-id-1 div.sk-parallel-item {\n",
       "  display: flex;\n",
       "  flex-direction: column;\n",
       "}\n",
       "\n",
       "#sk-container-id-1 div.sk-parallel-item:first-child::after {\n",
       "  align-self: flex-end;\n",
       "  width: 50%;\n",
       "}\n",
       "\n",
       "#sk-container-id-1 div.sk-parallel-item:last-child::after {\n",
       "  align-self: flex-start;\n",
       "  width: 50%;\n",
       "}\n",
       "\n",
       "#sk-container-id-1 div.sk-parallel-item:only-child::after {\n",
       "  width: 0;\n",
       "}\n",
       "\n",
       "/* Serial-specific style estimator block */\n",
       "\n",
       "#sk-container-id-1 div.sk-serial {\n",
       "  display: flex;\n",
       "  flex-direction: column;\n",
       "  align-items: center;\n",
       "  background-color: var(--sklearn-color-background);\n",
       "  padding-right: 1em;\n",
       "  padding-left: 1em;\n",
       "}\n",
       "\n",
       "\n",
       "/* Toggleable style: style used for estimator/Pipeline/ColumnTransformer box that is\n",
       "clickable and can be expanded/collapsed.\n",
       "- Pipeline and ColumnTransformer use this feature and define the default style\n",
       "- Estimators will overwrite some part of the style using the `sk-estimator` class\n",
       "*/\n",
       "\n",
       "/* Pipeline and ColumnTransformer style (default) */\n",
       "\n",
       "#sk-container-id-1 div.sk-toggleable {\n",
       "  /* Default theme specific background. It is overwritten whether we have a\n",
       "  specific estimator or a Pipeline/ColumnTransformer */\n",
       "  background-color: var(--sklearn-color-background);\n",
       "}\n",
       "\n",
       "/* Toggleable label */\n",
       "#sk-container-id-1 label.sk-toggleable__label {\n",
       "  cursor: pointer;\n",
       "  display: flex;\n",
       "  width: 100%;\n",
       "  margin-bottom: 0;\n",
       "  padding: 0.5em;\n",
       "  box-sizing: border-box;\n",
       "  text-align: center;\n",
       "  align-items: start;\n",
       "  justify-content: space-between;\n",
       "  gap: 0.5em;\n",
       "}\n",
       "\n",
       "#sk-container-id-1 label.sk-toggleable__label .caption {\n",
       "  font-size: 0.6rem;\n",
       "  font-weight: lighter;\n",
       "  color: var(--sklearn-color-text-muted);\n",
       "}\n",
       "\n",
       "#sk-container-id-1 label.sk-toggleable__label-arrow:before {\n",
       "  /* Arrow on the left of the label */\n",
       "  content: \"▸\";\n",
       "  float: left;\n",
       "  margin-right: 0.25em;\n",
       "  color: var(--sklearn-color-icon);\n",
       "}\n",
       "\n",
       "#sk-container-id-1 label.sk-toggleable__label-arrow:hover:before {\n",
       "  color: var(--sklearn-color-text);\n",
       "}\n",
       "\n",
       "/* Toggleable content - dropdown */\n",
       "\n",
       "#sk-container-id-1 div.sk-toggleable__content {\n",
       "  max-height: 0;\n",
       "  max-width: 0;\n",
       "  overflow: hidden;\n",
       "  text-align: left;\n",
       "  /* unfitted */\n",
       "  background-color: var(--sklearn-color-unfitted-level-0);\n",
       "}\n",
       "\n",
       "#sk-container-id-1 div.sk-toggleable__content.fitted {\n",
       "  /* fitted */\n",
       "  background-color: var(--sklearn-color-fitted-level-0);\n",
       "}\n",
       "\n",
       "#sk-container-id-1 div.sk-toggleable__content pre {\n",
       "  margin: 0.2em;\n",
       "  border-radius: 0.25em;\n",
       "  color: var(--sklearn-color-text);\n",
       "  /* unfitted */\n",
       "  background-color: var(--sklearn-color-unfitted-level-0);\n",
       "}\n",
       "\n",
       "#sk-container-id-1 div.sk-toggleable__content.fitted pre {\n",
       "  /* unfitted */\n",
       "  background-color: var(--sklearn-color-fitted-level-0);\n",
       "}\n",
       "\n",
       "#sk-container-id-1 input.sk-toggleable__control:checked~div.sk-toggleable__content {\n",
       "  /* Expand drop-down */\n",
       "  max-height: 200px;\n",
       "  max-width: 100%;\n",
       "  overflow: auto;\n",
       "}\n",
       "\n",
       "#sk-container-id-1 input.sk-toggleable__control:checked~label.sk-toggleable__label-arrow:before {\n",
       "  content: \"▾\";\n",
       "}\n",
       "\n",
       "/* Pipeline/ColumnTransformer-specific style */\n",
       "\n",
       "#sk-container-id-1 div.sk-label input.sk-toggleable__control:checked~label.sk-toggleable__label {\n",
       "  color: var(--sklearn-color-text);\n",
       "  background-color: var(--sklearn-color-unfitted-level-2);\n",
       "}\n",
       "\n",
       "#sk-container-id-1 div.sk-label.fitted input.sk-toggleable__control:checked~label.sk-toggleable__label {\n",
       "  background-color: var(--sklearn-color-fitted-level-2);\n",
       "}\n",
       "\n",
       "/* Estimator-specific style */\n",
       "\n",
       "/* Colorize estimator box */\n",
       "#sk-container-id-1 div.sk-estimator input.sk-toggleable__control:checked~label.sk-toggleable__label {\n",
       "  /* unfitted */\n",
       "  background-color: var(--sklearn-color-unfitted-level-2);\n",
       "}\n",
       "\n",
       "#sk-container-id-1 div.sk-estimator.fitted input.sk-toggleable__control:checked~label.sk-toggleable__label {\n",
       "  /* fitted */\n",
       "  background-color: var(--sklearn-color-fitted-level-2);\n",
       "}\n",
       "\n",
       "#sk-container-id-1 div.sk-label label.sk-toggleable__label,\n",
       "#sk-container-id-1 div.sk-label label {\n",
       "  /* The background is the default theme color */\n",
       "  color: var(--sklearn-color-text-on-default-background);\n",
       "}\n",
       "\n",
       "/* On hover, darken the color of the background */\n",
       "#sk-container-id-1 div.sk-label:hover label.sk-toggleable__label {\n",
       "  color: var(--sklearn-color-text);\n",
       "  background-color: var(--sklearn-color-unfitted-level-2);\n",
       "}\n",
       "\n",
       "/* Label box, darken color on hover, fitted */\n",
       "#sk-container-id-1 div.sk-label.fitted:hover label.sk-toggleable__label.fitted {\n",
       "  color: var(--sklearn-color-text);\n",
       "  background-color: var(--sklearn-color-fitted-level-2);\n",
       "}\n",
       "\n",
       "/* Estimator label */\n",
       "\n",
       "#sk-container-id-1 div.sk-label label {\n",
       "  font-family: monospace;\n",
       "  font-weight: bold;\n",
       "  display: inline-block;\n",
       "  line-height: 1.2em;\n",
       "}\n",
       "\n",
       "#sk-container-id-1 div.sk-label-container {\n",
       "  text-align: center;\n",
       "}\n",
       "\n",
       "/* Estimator-specific */\n",
       "#sk-container-id-1 div.sk-estimator {\n",
       "  font-family: monospace;\n",
       "  border: 1px dotted var(--sklearn-color-border-box);\n",
       "  border-radius: 0.25em;\n",
       "  box-sizing: border-box;\n",
       "  margin-bottom: 0.5em;\n",
       "  /* unfitted */\n",
       "  background-color: var(--sklearn-color-unfitted-level-0);\n",
       "}\n",
       "\n",
       "#sk-container-id-1 div.sk-estimator.fitted {\n",
       "  /* fitted */\n",
       "  background-color: var(--sklearn-color-fitted-level-0);\n",
       "}\n",
       "\n",
       "/* on hover */\n",
       "#sk-container-id-1 div.sk-estimator:hover {\n",
       "  /* unfitted */\n",
       "  background-color: var(--sklearn-color-unfitted-level-2);\n",
       "}\n",
       "\n",
       "#sk-container-id-1 div.sk-estimator.fitted:hover {\n",
       "  /* fitted */\n",
       "  background-color: var(--sklearn-color-fitted-level-2);\n",
       "}\n",
       "\n",
       "/* Specification for estimator info (e.g. \"i\" and \"?\") */\n",
       "\n",
       "/* Common style for \"i\" and \"?\" */\n",
       "\n",
       ".sk-estimator-doc-link,\n",
       "a:link.sk-estimator-doc-link,\n",
       "a:visited.sk-estimator-doc-link {\n",
       "  float: right;\n",
       "  font-size: smaller;\n",
       "  line-height: 1em;\n",
       "  font-family: monospace;\n",
       "  background-color: var(--sklearn-color-background);\n",
       "  border-radius: 1em;\n",
       "  height: 1em;\n",
       "  width: 1em;\n",
       "  text-decoration: none !important;\n",
       "  margin-left: 0.5em;\n",
       "  text-align: center;\n",
       "  /* unfitted */\n",
       "  border: var(--sklearn-color-unfitted-level-1) 1pt solid;\n",
       "  color: var(--sklearn-color-unfitted-level-1);\n",
       "}\n",
       "\n",
       ".sk-estimator-doc-link.fitted,\n",
       "a:link.sk-estimator-doc-link.fitted,\n",
       "a:visited.sk-estimator-doc-link.fitted {\n",
       "  /* fitted */\n",
       "  border: var(--sklearn-color-fitted-level-1) 1pt solid;\n",
       "  color: var(--sklearn-color-fitted-level-1);\n",
       "}\n",
       "\n",
       "/* On hover */\n",
       "div.sk-estimator:hover .sk-estimator-doc-link:hover,\n",
       ".sk-estimator-doc-link:hover,\n",
       "div.sk-label-container:hover .sk-estimator-doc-link:hover,\n",
       ".sk-estimator-doc-link:hover {\n",
       "  /* unfitted */\n",
       "  background-color: var(--sklearn-color-unfitted-level-3);\n",
       "  color: var(--sklearn-color-background);\n",
       "  text-decoration: none;\n",
       "}\n",
       "\n",
       "div.sk-estimator.fitted:hover .sk-estimator-doc-link.fitted:hover,\n",
       ".sk-estimator-doc-link.fitted:hover,\n",
       "div.sk-label-container:hover .sk-estimator-doc-link.fitted:hover,\n",
       ".sk-estimator-doc-link.fitted:hover {\n",
       "  /* fitted */\n",
       "  background-color: var(--sklearn-color-fitted-level-3);\n",
       "  color: var(--sklearn-color-background);\n",
       "  text-decoration: none;\n",
       "}\n",
       "\n",
       "/* Span, style for the box shown on hovering the info icon */\n",
       ".sk-estimator-doc-link span {\n",
       "  display: none;\n",
       "  z-index: 9999;\n",
       "  position: relative;\n",
       "  font-weight: normal;\n",
       "  right: .2ex;\n",
       "  padding: .5ex;\n",
       "  margin: .5ex;\n",
       "  width: min-content;\n",
       "  min-width: 20ex;\n",
       "  max-width: 50ex;\n",
       "  color: var(--sklearn-color-text);\n",
       "  box-shadow: 2pt 2pt 4pt #999;\n",
       "  /* unfitted */\n",
       "  background: var(--sklearn-color-unfitted-level-0);\n",
       "  border: .5pt solid var(--sklearn-color-unfitted-level-3);\n",
       "}\n",
       "\n",
       ".sk-estimator-doc-link.fitted span {\n",
       "  /* fitted */\n",
       "  background: var(--sklearn-color-fitted-level-0);\n",
       "  border: var(--sklearn-color-fitted-level-3);\n",
       "}\n",
       "\n",
       ".sk-estimator-doc-link:hover span {\n",
       "  display: block;\n",
       "}\n",
       "\n",
       "/* \"?\"-specific style due to the `<a>` HTML tag */\n",
       "\n",
       "#sk-container-id-1 a.estimator_doc_link {\n",
       "  float: right;\n",
       "  font-size: 1rem;\n",
       "  line-height: 1em;\n",
       "  font-family: monospace;\n",
       "  background-color: var(--sklearn-color-background);\n",
       "  border-radius: 1rem;\n",
       "  height: 1rem;\n",
       "  width: 1rem;\n",
       "  text-decoration: none;\n",
       "  /* unfitted */\n",
       "  color: var(--sklearn-color-unfitted-level-1);\n",
       "  border: var(--sklearn-color-unfitted-level-1) 1pt solid;\n",
       "}\n",
       "\n",
       "#sk-container-id-1 a.estimator_doc_link.fitted {\n",
       "  /* fitted */\n",
       "  border: var(--sklearn-color-fitted-level-1) 1pt solid;\n",
       "  color: var(--sklearn-color-fitted-level-1);\n",
       "}\n",
       "\n",
       "/* On hover */\n",
       "#sk-container-id-1 a.estimator_doc_link:hover {\n",
       "  /* unfitted */\n",
       "  background-color: var(--sklearn-color-unfitted-level-3);\n",
       "  color: var(--sklearn-color-background);\n",
       "  text-decoration: none;\n",
       "}\n",
       "\n",
       "#sk-container-id-1 a.estimator_doc_link.fitted:hover {\n",
       "  /* fitted */\n",
       "  background-color: var(--sklearn-color-fitted-level-3);\n",
       "}\n",
       "</style><div id=\"sk-container-id-1\" class=\"sk-top-container\"><div class=\"sk-text-repr-fallback\"><pre>LinearRegression()</pre><b>In a Jupyter environment, please rerun this cell to show the HTML representation or trust the notebook. <br />On GitHub, the HTML representation is unable to render, please try loading this page with nbviewer.org.</b></div><div class=\"sk-container\" hidden><div class=\"sk-item\"><div class=\"sk-estimator fitted sk-toggleable\"><input class=\"sk-toggleable__control sk-hidden--visually\" id=\"sk-estimator-id-1\" type=\"checkbox\" checked><label for=\"sk-estimator-id-1\" class=\"sk-toggleable__label fitted sk-toggleable__label-arrow\"><div><div>LinearRegression</div></div><div><a class=\"sk-estimator-doc-link fitted\" rel=\"noreferrer\" target=\"_blank\" href=\"https://scikit-learn.org/1.6/modules/generated/sklearn.linear_model.LinearRegression.html\">?<span>Documentation for LinearRegression</span></a><span class=\"sk-estimator-doc-link fitted\">i<span>Fitted</span></span></div></label><div class=\"sk-toggleable__content fitted\"><pre>LinearRegression()</pre></div> </div></div></div></div>"
      ],
      "text/plain": [
       "LinearRegression()"
      ]
     },
     "execution_count": 29,
     "metadata": {},
     "output_type": "execute_result"
    }
   ],
   "source": [
    "#ajustamos el modelo con las variables antes declaradas\n",
    "model.fit(X=Var_Indep, y=Var_Dep)\n",
    "model2.fit(X=Var_Indep2, y=Var_Dep)\n",
    "model3.fit(X=Var_Indep3, y=Var_Dep)\n",
    "model4.fit(X=Var_Indep4, y=Var_Dep)\n",
    "model5.fit(X=Var_Indep5, y=Var_Dep)\n",
    "model6.fit(X=Var_Indep6, y=Var_Dep)\n",
    "model7.fit(X=Var_Indep7, y=Var_Dep)\n",
    "model8.fit(X=Var_Indep8, y=Var_Dep2)"
   ]
  },
  {
   "cell_type": "markdown",
   "metadata": {},
   "source": [
    "**COEFICIENTES OBTENIDOS PARA NUESTROS MODELOS**"
   ]
  },
  {
   "cell_type": "code",
   "execution_count": 30,
   "metadata": {},
   "outputs": [
    {
     "data": {
      "text/plain": [
       "{'fit_intercept': True,\n",
       " 'copy_X': True,\n",
       " 'n_jobs': None,\n",
       " 'positive': False,\n",
       " 'feature_names_in_': array(['host_acceptance_rate'], dtype=object),\n",
       " 'n_features_in_': 1,\n",
       " 'coef_': array([-2.57894737]),\n",
       " 'rank_': 1,\n",
       " 'singular_': array([15.51343504]),\n",
       " 'intercept_': 363.8947368421052}"
      ]
     },
     "execution_count": 30,
     "metadata": {},
     "output_type": "execute_result"
    }
   ],
   "source": [
    "#verificamos los coeficientes obtenidos para el modelo ajustado \n",
    "model.__dict__"
   ]
  },
  {
   "cell_type": "code",
   "execution_count": 31,
   "metadata": {},
   "outputs": [
    {
     "data": {
      "text/plain": [
       "{'fit_intercept': True,\n",
       " 'copy_X': True,\n",
       " 'n_jobs': None,\n",
       " 'positive': False,\n",
       " 'feature_names_in_': array(['host_is_superhost'], dtype=object),\n",
       " 'n_features_in_': 1,\n",
       " 'coef_': array([0.]),\n",
       " 'rank_': 0,\n",
       " 'singular_': array([0.]),\n",
       " 'intercept_': 122.33333333333333}"
      ]
     },
     "execution_count": 31,
     "metadata": {},
     "output_type": "execute_result"
    }
   ],
   "source": [
    "#verificamos los coeficientes obtenidos para el modelo ajustado \n",
    "model2.__dict__"
   ]
  },
  {
   "cell_type": "code",
   "execution_count": 32,
   "metadata": {},
   "outputs": [
    {
     "data": {
      "text/plain": [
       "{'fit_intercept': True,\n",
       " 'copy_X': True,\n",
       " 'n_jobs': None,\n",
       " 'positive': False,\n",
       " 'feature_names_in_': array(['room_type'], dtype=object),\n",
       " 'n_features_in_': 1,\n",
       " 'coef_': array([0.]),\n",
       " 'rank_': 0,\n",
       " 'singular_': array([0.]),\n",
       " 'intercept_': 122.33333333333333}"
      ]
     },
     "execution_count": 32,
     "metadata": {},
     "output_type": "execute_result"
    }
   ],
   "source": [
    "#verificamos los coeficientes obtenidos para el modelo ajustado \n",
    "model3.__dict__"
   ]
  },
  {
   "cell_type": "code",
   "execution_count": 33,
   "metadata": {},
   "outputs": [
    {
     "data": {
      "text/plain": [
       "{'fit_intercept': True,\n",
       " 'copy_X': True,\n",
       " 'n_jobs': None,\n",
       " 'positive': False,\n",
       " 'feature_names_in_': array(['host_identity_verified'], dtype=object),\n",
       " 'n_features_in_': 1,\n",
       " 'coef_': array([0.]),\n",
       " 'rank_': 0,\n",
       " 'singular_': array([0.]),\n",
       " 'intercept_': 122.33333333333333}"
      ]
     },
     "execution_count": 33,
     "metadata": {},
     "output_type": "execute_result"
    }
   ],
   "source": [
    "#verificamos los coeficientes obtenidos para el modelo ajustado \n",
    "model4.__dict__"
   ]
  },
  {
   "cell_type": "code",
   "execution_count": 34,
   "metadata": {},
   "outputs": [
    {
     "data": {
      "text/plain": [
       "{'fit_intercept': True,\n",
       " 'copy_X': True,\n",
       " 'n_jobs': None,\n",
       " 'positive': False,\n",
       " 'feature_names_in_': array(['property_type'], dtype=object),\n",
       " 'n_features_in_': 1,\n",
       " 'coef_': array([48.]),\n",
       " 'rank_': 1,\n",
       " 'singular_': array([1.41421356]),\n",
       " 'intercept_': -2133.666666666666}"
      ]
     },
     "execution_count": 34,
     "metadata": {},
     "output_type": "execute_result"
    }
   ],
   "source": [
    "#verificamos los coeficientes obtenidos para el modelo ajustado \n",
    "model5.__dict__"
   ]
  },
  {
   "cell_type": "code",
   "execution_count": 35,
   "metadata": {},
   "outputs": [
    {
     "data": {
      "text/plain": [
       "{'fit_intercept': True,\n",
       " 'copy_X': True,\n",
       " 'n_jobs': None,\n",
       " 'positive': False,\n",
       " 'feature_names_in_': array(['instant_bookable'], dtype=object),\n",
       " 'n_features_in_': 1,\n",
       " 'coef_': array([0.]),\n",
       " 'rank_': 0,\n",
       " 'singular_': array([0.]),\n",
       " 'intercept_': 122.33333333333333}"
      ]
     },
     "execution_count": 35,
     "metadata": {},
     "output_type": "execute_result"
    }
   ],
   "source": [
    "#verificamos los coeficientes obtenidos para el modelo ajustado \n",
    "model6.__dict__"
   ]
  },
  {
   "cell_type": "code",
   "execution_count": 36,
   "metadata": {},
   "outputs": [
    {
     "data": {
      "text/plain": [
       "{'fit_intercept': True,\n",
       " 'copy_X': True,\n",
       " 'n_jobs': None,\n",
       " 'positive': False,\n",
       " 'feature_names_in_': array(['review_scores_cleanliness'], dtype=object),\n",
       " 'n_features_in_': 1,\n",
       " 'coef_': array([0.]),\n",
       " 'rank_': 0,\n",
       " 'singular_': array([0.]),\n",
       " 'intercept_': 122.33333333333333}"
      ]
     },
     "execution_count": 36,
     "metadata": {},
     "output_type": "execute_result"
    }
   ],
   "source": [
    "#verificamos los coeficientes obtenidos para el modelo ajustado \n",
    "model7.__dict__"
   ]
  },
  {
   "cell_type": "code",
   "execution_count": 37,
   "metadata": {},
   "outputs": [
    {
     "data": {
      "text/plain": [
       "{'fit_intercept': True,\n",
       " 'copy_X': True,\n",
       " 'n_jobs': None,\n",
       " 'positive': False,\n",
       " 'feature_names_in_': array(['bathrooms'], dtype=object),\n",
       " 'n_features_in_': 1,\n",
       " 'coef_': array([-3.75]),\n",
       " 'rank_': 1,\n",
       " 'singular_': array([0.65319726]),\n",
       " 'intercept_': 7.750000000000002}"
      ]
     },
     "execution_count": 37,
     "metadata": {},
     "output_type": "execute_result"
    }
   ],
   "source": [
    "#verificamos los coeficientes obtenidos para el modelo ajustado \n",
    "model8.__dict__"
   ]
  },
  {
   "cell_type": "markdown",
   "metadata": {},
   "source": [
    "**PREDECIMOS VALORES DE ACUERDO AL MODELO MATEMÁTICO**"
   ]
  },
  {
   "cell_type": "code",
   "execution_count": 38,
   "metadata": {},
   "outputs": [
    {
     "data": {
      "text/plain": [
       "array([106., 106., 155.])"
      ]
     },
     "execution_count": 38,
     "metadata": {},
     "output_type": "execute_result"
    }
   ],
   "source": [
    "#predecimos valores\n",
    "y_pred= model.predict(X=f2[['host_acceptance_rate']])\n",
    "y_pred"
   ]
  },
  {
   "cell_type": "code",
   "execution_count": 39,
   "metadata": {},
   "outputs": [
    {
     "data": {
      "text/plain": [
       "array([122.33333333, 122.33333333, 122.33333333])"
      ]
     },
     "execution_count": 39,
     "metadata": {},
     "output_type": "execute_result"
    }
   ],
   "source": [
    "#predecimos valores\n",
    "y_pred2= model2.predict(X=f2[['host_is_superhost']])\n",
    "y_pred2"
   ]
  },
  {
   "cell_type": "code",
   "execution_count": 40,
   "metadata": {},
   "outputs": [
    {
     "data": {
      "text/plain": [
       "array([122.33333333, 122.33333333, 122.33333333])"
      ]
     },
     "execution_count": 40,
     "metadata": {},
     "output_type": "execute_result"
    }
   ],
   "source": [
    "#predecimos valores\n",
    "y_pred3= model3.predict(X=f2[['room_type']])\n",
    "y_pred3"
   ]
  },
  {
   "cell_type": "code",
   "execution_count": 41,
   "metadata": {},
   "outputs": [
    {
     "data": {
      "text/plain": [
       "array([122.33333333, 122.33333333, 122.33333333])"
      ]
     },
     "execution_count": 41,
     "metadata": {},
     "output_type": "execute_result"
    }
   ],
   "source": [
    "#predecimos valores\n",
    "y_pred4= model4.predict(X=f2[['host_identity_verified']])\n",
    "y_pred4"
   ]
  },
  {
   "cell_type": "code",
   "execution_count": 42,
   "metadata": {},
   "outputs": [
    {
     "data": {
      "text/plain": [
       "array([170.33333333,  74.33333333, 122.33333333])"
      ]
     },
     "execution_count": 42,
     "metadata": {},
     "output_type": "execute_result"
    }
   ],
   "source": [
    "#predecimos valores\n",
    "y_pred5= model5.predict(X=f2[['property_type']])\n",
    "y_pred5"
   ]
  },
  {
   "cell_type": "code",
   "execution_count": 43,
   "metadata": {},
   "outputs": [
    {
     "data": {
      "text/plain": [
       "array([122.33333333, 122.33333333, 122.33333333])"
      ]
     },
     "execution_count": 43,
     "metadata": {},
     "output_type": "execute_result"
    }
   ],
   "source": [
    "#predecimos valores\n",
    "y_pred6= model6.predict(X=f2[['instant_bookable']])\n",
    "y_pred6"
   ]
  },
  {
   "cell_type": "code",
   "execution_count": 44,
   "metadata": {},
   "outputs": [
    {
     "data": {
      "text/plain": [
       "array([122.33333333, 122.33333333, 122.33333333])"
      ]
     },
     "execution_count": 44,
     "metadata": {},
     "output_type": "execute_result"
    }
   ],
   "source": [
    "y_pred7= model7.predict(X=f2[['review_scores_cleanliness']])\n",
    "y_pred7"
   ]
  },
  {
   "cell_type": "code",
   "execution_count": 45,
   "metadata": {},
   "outputs": [
    {
     "data": {
      "text/plain": [
       "array([1., 1., 4.])"
      ]
     },
     "execution_count": 45,
     "metadata": {},
     "output_type": "execute_result"
    }
   ],
   "source": [
    "y_pred8= model8.predict(X=f2[['bathrooms']])\n",
    "y_pred8"
   ]
  },
  {
   "cell_type": "markdown",
   "metadata": {},
   "source": [
    "**inertamos la columna de predicciones con el Dataframe**"
   ]
  },
  {
   "cell_type": "code",
   "execution_count": 46,
   "metadata": {},
   "outputs": [
    {
     "data": {
      "text/html": [
       "<div>\n",
       "<style scoped>\n",
       "    .dataframe tbody tr th:only-of-type {\n",
       "        vertical-align: middle;\n",
       "    }\n",
       "\n",
       "    .dataframe tbody tr th {\n",
       "        vertical-align: top;\n",
       "    }\n",
       "\n",
       "    .dataframe thead th {\n",
       "        text-align: right;\n",
       "    }\n",
       "</style>\n",
       "<table border=\"1\" class=\"dataframe\">\n",
       "  <thead>\n",
       "    <tr style=\"text-align: right;\">\n",
       "      <th></th>\n",
       "      <th>Prediccion_host_acceptance_rate</th>\n",
       "      <th>host_acceptance_rate</th>\n",
       "      <th>host_is_superhost</th>\n",
       "      <th>host_identity_verified</th>\n",
       "      <th>property_type</th>\n",
       "      <th>room_type</th>\n",
       "      <th>price</th>\n",
       "      <th>instant_bookable</th>\n",
       "      <th>accommodates</th>\n",
       "      <th>bathrooms</th>\n",
       "      <th>review_scores_cleanliness</th>\n",
       "    </tr>\n",
       "  </thead>\n",
       "  <tbody>\n",
       "    <tr>\n",
       "      <th>3071</th>\n",
       "      <td>106.0</td>\n",
       "      <td>100</td>\n",
       "      <td>0</td>\n",
       "      <td>1</td>\n",
       "      <td>48.0</td>\n",
       "      <td>3</td>\n",
       "      <td>154.0</td>\n",
       "      <td>0</td>\n",
       "      <td>1.0</td>\n",
       "      <td>1.8</td>\n",
       "      <td>4.6</td>\n",
       "    </tr>\n",
       "    <tr>\n",
       "      <th>3101</th>\n",
       "      <td>106.0</td>\n",
       "      <td>100</td>\n",
       "      <td>0</td>\n",
       "      <td>1</td>\n",
       "      <td>46.0</td>\n",
       "      <td>3</td>\n",
       "      <td>58.0</td>\n",
       "      <td>0</td>\n",
       "      <td>1.0</td>\n",
       "      <td>1.8</td>\n",
       "      <td>4.6</td>\n",
       "    </tr>\n",
       "    <tr>\n",
       "      <th>3678</th>\n",
       "      <td>155.0</td>\n",
       "      <td>81</td>\n",
       "      <td>0</td>\n",
       "      <td>1</td>\n",
       "      <td>47.0</td>\n",
       "      <td>3</td>\n",
       "      <td>155.0</td>\n",
       "      <td>0</td>\n",
       "      <td>4.0</td>\n",
       "      <td>1.0</td>\n",
       "      <td>4.6</td>\n",
       "    </tr>\n",
       "  </tbody>\n",
       "</table>\n",
       "</div>"
      ],
      "text/plain": [
       "      Prediccion_host_acceptance_rate  host_acceptance_rate  \\\n",
       "3071                            106.0                   100   \n",
       "3101                            106.0                   100   \n",
       "3678                            155.0                    81   \n",
       "\n",
       "      host_is_superhost  host_identity_verified  property_type  room_type  \\\n",
       "3071                  0                       1           48.0          3   \n",
       "3101                  0                       1           46.0          3   \n",
       "3678                  0                       1           47.0          3   \n",
       "\n",
       "      price  instant_bookable  accommodates  bathrooms  \\\n",
       "3071  154.0                 0           1.0        1.8   \n",
       "3101   58.0                 0           1.0        1.8   \n",
       "3678  155.0                 0           4.0        1.0   \n",
       "\n",
       "      review_scores_cleanliness  \n",
       "3071                        4.6  \n",
       "3101                        4.6  \n",
       "3678                        4.6  "
      ]
     },
     "execution_count": 46,
     "metadata": {},
     "output_type": "execute_result"
    }
   ],
   "source": [
    "#insertamos la columna de predicciones en el DataFrame \n",
    "f2.insert(0, 'Prediccion_host_acceptance_rate', y_pred)\n",
    "f2"
   ]
  },
  {
   "cell_type": "code",
   "execution_count": 47,
   "metadata": {},
   "outputs": [
    {
     "data": {
      "text/html": [
       "<div>\n",
       "<style scoped>\n",
       "    .dataframe tbody tr th:only-of-type {\n",
       "        vertical-align: middle;\n",
       "    }\n",
       "\n",
       "    .dataframe tbody tr th {\n",
       "        vertical-align: top;\n",
       "    }\n",
       "\n",
       "    .dataframe thead th {\n",
       "        text-align: right;\n",
       "    }\n",
       "</style>\n",
       "<table border=\"1\" class=\"dataframe\">\n",
       "  <thead>\n",
       "    <tr style=\"text-align: right;\">\n",
       "      <th></th>\n",
       "      <th>Prediccion_host_acceptance_rate</th>\n",
       "      <th>Prediccion_host_is_superhost</th>\n",
       "      <th>host_acceptance_rate</th>\n",
       "      <th>host_is_superhost</th>\n",
       "      <th>host_identity_verified</th>\n",
       "      <th>property_type</th>\n",
       "      <th>room_type</th>\n",
       "      <th>price</th>\n",
       "      <th>instant_bookable</th>\n",
       "      <th>accommodates</th>\n",
       "      <th>bathrooms</th>\n",
       "      <th>review_scores_cleanliness</th>\n",
       "    </tr>\n",
       "  </thead>\n",
       "  <tbody>\n",
       "    <tr>\n",
       "      <th>3071</th>\n",
       "      <td>106.0</td>\n",
       "      <td>122.333333</td>\n",
       "      <td>100</td>\n",
       "      <td>0</td>\n",
       "      <td>1</td>\n",
       "      <td>48.0</td>\n",
       "      <td>3</td>\n",
       "      <td>154.0</td>\n",
       "      <td>0</td>\n",
       "      <td>1.0</td>\n",
       "      <td>1.8</td>\n",
       "      <td>4.6</td>\n",
       "    </tr>\n",
       "    <tr>\n",
       "      <th>3101</th>\n",
       "      <td>106.0</td>\n",
       "      <td>122.333333</td>\n",
       "      <td>100</td>\n",
       "      <td>0</td>\n",
       "      <td>1</td>\n",
       "      <td>46.0</td>\n",
       "      <td>3</td>\n",
       "      <td>58.0</td>\n",
       "      <td>0</td>\n",
       "      <td>1.0</td>\n",
       "      <td>1.8</td>\n",
       "      <td>4.6</td>\n",
       "    </tr>\n",
       "    <tr>\n",
       "      <th>3678</th>\n",
       "      <td>155.0</td>\n",
       "      <td>122.333333</td>\n",
       "      <td>81</td>\n",
       "      <td>0</td>\n",
       "      <td>1</td>\n",
       "      <td>47.0</td>\n",
       "      <td>3</td>\n",
       "      <td>155.0</td>\n",
       "      <td>0</td>\n",
       "      <td>4.0</td>\n",
       "      <td>1.0</td>\n",
       "      <td>4.6</td>\n",
       "    </tr>\n",
       "  </tbody>\n",
       "</table>\n",
       "</div>"
      ],
      "text/plain": [
       "      Prediccion_host_acceptance_rate  Prediccion_host_is_superhost  \\\n",
       "3071                            106.0                    122.333333   \n",
       "3101                            106.0                    122.333333   \n",
       "3678                            155.0                    122.333333   \n",
       "\n",
       "      host_acceptance_rate  host_is_superhost  host_identity_verified  \\\n",
       "3071                   100                  0                       1   \n",
       "3101                   100                  0                       1   \n",
       "3678                    81                  0                       1   \n",
       "\n",
       "      property_type  room_type  price  instant_bookable  accommodates  \\\n",
       "3071           48.0          3  154.0                 0           1.0   \n",
       "3101           46.0          3   58.0                 0           1.0   \n",
       "3678           47.0          3  155.0                 0           4.0   \n",
       "\n",
       "      bathrooms  review_scores_cleanliness  \n",
       "3071        1.8                        4.6  \n",
       "3101        1.8                        4.6  \n",
       "3678        1.0                        4.6  "
      ]
     },
     "execution_count": 47,
     "metadata": {},
     "output_type": "execute_result"
    }
   ],
   "source": [
    "#insertamos la columna de predicciones en el DataFrame \n",
    "f2.insert(1, 'Prediccion_host_is_superhost', y_pred2)\n",
    "f2"
   ]
  },
  {
   "cell_type": "code",
   "execution_count": 48,
   "metadata": {},
   "outputs": [
    {
     "data": {
      "text/html": [
       "<div>\n",
       "<style scoped>\n",
       "    .dataframe tbody tr th:only-of-type {\n",
       "        vertical-align: middle;\n",
       "    }\n",
       "\n",
       "    .dataframe tbody tr th {\n",
       "        vertical-align: top;\n",
       "    }\n",
       "\n",
       "    .dataframe thead th {\n",
       "        text-align: right;\n",
       "    }\n",
       "</style>\n",
       "<table border=\"1\" class=\"dataframe\">\n",
       "  <thead>\n",
       "    <tr style=\"text-align: right;\">\n",
       "      <th></th>\n",
       "      <th>Prediccion_host_acceptance_rate</th>\n",
       "      <th>Prediccion_host_is_superhost</th>\n",
       "      <th>Prediccion_room_type</th>\n",
       "      <th>host_acceptance_rate</th>\n",
       "      <th>host_is_superhost</th>\n",
       "      <th>host_identity_verified</th>\n",
       "      <th>property_type</th>\n",
       "      <th>room_type</th>\n",
       "      <th>price</th>\n",
       "      <th>instant_bookable</th>\n",
       "      <th>accommodates</th>\n",
       "      <th>bathrooms</th>\n",
       "      <th>review_scores_cleanliness</th>\n",
       "    </tr>\n",
       "  </thead>\n",
       "  <tbody>\n",
       "    <tr>\n",
       "      <th>3071</th>\n",
       "      <td>106.0</td>\n",
       "      <td>122.333333</td>\n",
       "      <td>122.333333</td>\n",
       "      <td>100</td>\n",
       "      <td>0</td>\n",
       "      <td>1</td>\n",
       "      <td>48.0</td>\n",
       "      <td>3</td>\n",
       "      <td>154.0</td>\n",
       "      <td>0</td>\n",
       "      <td>1.0</td>\n",
       "      <td>1.8</td>\n",
       "      <td>4.6</td>\n",
       "    </tr>\n",
       "    <tr>\n",
       "      <th>3101</th>\n",
       "      <td>106.0</td>\n",
       "      <td>122.333333</td>\n",
       "      <td>122.333333</td>\n",
       "      <td>100</td>\n",
       "      <td>0</td>\n",
       "      <td>1</td>\n",
       "      <td>46.0</td>\n",
       "      <td>3</td>\n",
       "      <td>58.0</td>\n",
       "      <td>0</td>\n",
       "      <td>1.0</td>\n",
       "      <td>1.8</td>\n",
       "      <td>4.6</td>\n",
       "    </tr>\n",
       "    <tr>\n",
       "      <th>3678</th>\n",
       "      <td>155.0</td>\n",
       "      <td>122.333333</td>\n",
       "      <td>122.333333</td>\n",
       "      <td>81</td>\n",
       "      <td>0</td>\n",
       "      <td>1</td>\n",
       "      <td>47.0</td>\n",
       "      <td>3</td>\n",
       "      <td>155.0</td>\n",
       "      <td>0</td>\n",
       "      <td>4.0</td>\n",
       "      <td>1.0</td>\n",
       "      <td>4.6</td>\n",
       "    </tr>\n",
       "  </tbody>\n",
       "</table>\n",
       "</div>"
      ],
      "text/plain": [
       "      Prediccion_host_acceptance_rate  Prediccion_host_is_superhost  \\\n",
       "3071                            106.0                    122.333333   \n",
       "3101                            106.0                    122.333333   \n",
       "3678                            155.0                    122.333333   \n",
       "\n",
       "      Prediccion_room_type  host_acceptance_rate  host_is_superhost  \\\n",
       "3071            122.333333                   100                  0   \n",
       "3101            122.333333                   100                  0   \n",
       "3678            122.333333                    81                  0   \n",
       "\n",
       "      host_identity_verified  property_type  room_type  price  \\\n",
       "3071                       1           48.0          3  154.0   \n",
       "3101                       1           46.0          3   58.0   \n",
       "3678                       1           47.0          3  155.0   \n",
       "\n",
       "      instant_bookable  accommodates  bathrooms  review_scores_cleanliness  \n",
       "3071                 0           1.0        1.8                        4.6  \n",
       "3101                 0           1.0        1.8                        4.6  \n",
       "3678                 0           4.0        1.0                        4.6  "
      ]
     },
     "execution_count": 48,
     "metadata": {},
     "output_type": "execute_result"
    }
   ],
   "source": [
    "#insertamos la columna de predicciones en el DataFrame \n",
    "f2.insert(2, 'Prediccion_room_type', y_pred3)\n",
    "f2"
   ]
  },
  {
   "cell_type": "code",
   "execution_count": 49,
   "metadata": {},
   "outputs": [
    {
     "data": {
      "text/html": [
       "<div>\n",
       "<style scoped>\n",
       "    .dataframe tbody tr th:only-of-type {\n",
       "        vertical-align: middle;\n",
       "    }\n",
       "\n",
       "    .dataframe tbody tr th {\n",
       "        vertical-align: top;\n",
       "    }\n",
       "\n",
       "    .dataframe thead th {\n",
       "        text-align: right;\n",
       "    }\n",
       "</style>\n",
       "<table border=\"1\" class=\"dataframe\">\n",
       "  <thead>\n",
       "    <tr style=\"text-align: right;\">\n",
       "      <th></th>\n",
       "      <th>Prediccion_host_acceptance_rate</th>\n",
       "      <th>Prediccion_host_is_superhost</th>\n",
       "      <th>Prediccion_room_type</th>\n",
       "      <th>Prediccion_host_identity_verified</th>\n",
       "      <th>host_acceptance_rate</th>\n",
       "      <th>host_is_superhost</th>\n",
       "      <th>host_identity_verified</th>\n",
       "      <th>property_type</th>\n",
       "      <th>room_type</th>\n",
       "      <th>price</th>\n",
       "      <th>instant_bookable</th>\n",
       "      <th>accommodates</th>\n",
       "      <th>bathrooms</th>\n",
       "      <th>review_scores_cleanliness</th>\n",
       "    </tr>\n",
       "  </thead>\n",
       "  <tbody>\n",
       "    <tr>\n",
       "      <th>3071</th>\n",
       "      <td>106.0</td>\n",
       "      <td>122.333333</td>\n",
       "      <td>122.333333</td>\n",
       "      <td>122.333333</td>\n",
       "      <td>100</td>\n",
       "      <td>0</td>\n",
       "      <td>1</td>\n",
       "      <td>48.0</td>\n",
       "      <td>3</td>\n",
       "      <td>154.0</td>\n",
       "      <td>0</td>\n",
       "      <td>1.0</td>\n",
       "      <td>1.8</td>\n",
       "      <td>4.6</td>\n",
       "    </tr>\n",
       "    <tr>\n",
       "      <th>3101</th>\n",
       "      <td>106.0</td>\n",
       "      <td>122.333333</td>\n",
       "      <td>122.333333</td>\n",
       "      <td>122.333333</td>\n",
       "      <td>100</td>\n",
       "      <td>0</td>\n",
       "      <td>1</td>\n",
       "      <td>46.0</td>\n",
       "      <td>3</td>\n",
       "      <td>58.0</td>\n",
       "      <td>0</td>\n",
       "      <td>1.0</td>\n",
       "      <td>1.8</td>\n",
       "      <td>4.6</td>\n",
       "    </tr>\n",
       "    <tr>\n",
       "      <th>3678</th>\n",
       "      <td>155.0</td>\n",
       "      <td>122.333333</td>\n",
       "      <td>122.333333</td>\n",
       "      <td>122.333333</td>\n",
       "      <td>81</td>\n",
       "      <td>0</td>\n",
       "      <td>1</td>\n",
       "      <td>47.0</td>\n",
       "      <td>3</td>\n",
       "      <td>155.0</td>\n",
       "      <td>0</td>\n",
       "      <td>4.0</td>\n",
       "      <td>1.0</td>\n",
       "      <td>4.6</td>\n",
       "    </tr>\n",
       "  </tbody>\n",
       "</table>\n",
       "</div>"
      ],
      "text/plain": [
       "      Prediccion_host_acceptance_rate  Prediccion_host_is_superhost  \\\n",
       "3071                            106.0                    122.333333   \n",
       "3101                            106.0                    122.333333   \n",
       "3678                            155.0                    122.333333   \n",
       "\n",
       "      Prediccion_room_type  Prediccion_host_identity_verified  \\\n",
       "3071            122.333333                         122.333333   \n",
       "3101            122.333333                         122.333333   \n",
       "3678            122.333333                         122.333333   \n",
       "\n",
       "      host_acceptance_rate  host_is_superhost  host_identity_verified  \\\n",
       "3071                   100                  0                       1   \n",
       "3101                   100                  0                       1   \n",
       "3678                    81                  0                       1   \n",
       "\n",
       "      property_type  room_type  price  instant_bookable  accommodates  \\\n",
       "3071           48.0          3  154.0                 0           1.0   \n",
       "3101           46.0          3   58.0                 0           1.0   \n",
       "3678           47.0          3  155.0                 0           4.0   \n",
       "\n",
       "      bathrooms  review_scores_cleanliness  \n",
       "3071        1.8                        4.6  \n",
       "3101        1.8                        4.6  \n",
       "3678        1.0                        4.6  "
      ]
     },
     "execution_count": 49,
     "metadata": {},
     "output_type": "execute_result"
    }
   ],
   "source": [
    "#insertamos la columna de predicciones en el DataFrame \n",
    "f2.insert(3, 'Prediccion_host_identity_verified', y_pred4)\n",
    "f2"
   ]
  },
  {
   "cell_type": "code",
   "execution_count": 50,
   "metadata": {},
   "outputs": [
    {
     "data": {
      "text/html": [
       "<div>\n",
       "<style scoped>\n",
       "    .dataframe tbody tr th:only-of-type {\n",
       "        vertical-align: middle;\n",
       "    }\n",
       "\n",
       "    .dataframe tbody tr th {\n",
       "        vertical-align: top;\n",
       "    }\n",
       "\n",
       "    .dataframe thead th {\n",
       "        text-align: right;\n",
       "    }\n",
       "</style>\n",
       "<table border=\"1\" class=\"dataframe\">\n",
       "  <thead>\n",
       "    <tr style=\"text-align: right;\">\n",
       "      <th></th>\n",
       "      <th>Prediccion_host_acceptance_rate</th>\n",
       "      <th>Prediccion_host_is_superhost</th>\n",
       "      <th>Prediccion_room_type</th>\n",
       "      <th>Prediccion_host_identity_verified</th>\n",
       "      <th>Prediccion_property_type</th>\n",
       "      <th>host_acceptance_rate</th>\n",
       "      <th>host_is_superhost</th>\n",
       "      <th>host_identity_verified</th>\n",
       "      <th>property_type</th>\n",
       "      <th>room_type</th>\n",
       "      <th>price</th>\n",
       "      <th>instant_bookable</th>\n",
       "      <th>accommodates</th>\n",
       "      <th>bathrooms</th>\n",
       "      <th>review_scores_cleanliness</th>\n",
       "    </tr>\n",
       "  </thead>\n",
       "  <tbody>\n",
       "    <tr>\n",
       "      <th>3071</th>\n",
       "      <td>106.0</td>\n",
       "      <td>122.333333</td>\n",
       "      <td>122.333333</td>\n",
       "      <td>122.333333</td>\n",
       "      <td>170.333333</td>\n",
       "      <td>100</td>\n",
       "      <td>0</td>\n",
       "      <td>1</td>\n",
       "      <td>48.0</td>\n",
       "      <td>3</td>\n",
       "      <td>154.0</td>\n",
       "      <td>0</td>\n",
       "      <td>1.0</td>\n",
       "      <td>1.8</td>\n",
       "      <td>4.6</td>\n",
       "    </tr>\n",
       "    <tr>\n",
       "      <th>3101</th>\n",
       "      <td>106.0</td>\n",
       "      <td>122.333333</td>\n",
       "      <td>122.333333</td>\n",
       "      <td>122.333333</td>\n",
       "      <td>74.333333</td>\n",
       "      <td>100</td>\n",
       "      <td>0</td>\n",
       "      <td>1</td>\n",
       "      <td>46.0</td>\n",
       "      <td>3</td>\n",
       "      <td>58.0</td>\n",
       "      <td>0</td>\n",
       "      <td>1.0</td>\n",
       "      <td>1.8</td>\n",
       "      <td>4.6</td>\n",
       "    </tr>\n",
       "    <tr>\n",
       "      <th>3678</th>\n",
       "      <td>155.0</td>\n",
       "      <td>122.333333</td>\n",
       "      <td>122.333333</td>\n",
       "      <td>122.333333</td>\n",
       "      <td>122.333333</td>\n",
       "      <td>81</td>\n",
       "      <td>0</td>\n",
       "      <td>1</td>\n",
       "      <td>47.0</td>\n",
       "      <td>3</td>\n",
       "      <td>155.0</td>\n",
       "      <td>0</td>\n",
       "      <td>4.0</td>\n",
       "      <td>1.0</td>\n",
       "      <td>4.6</td>\n",
       "    </tr>\n",
       "  </tbody>\n",
       "</table>\n",
       "</div>"
      ],
      "text/plain": [
       "      Prediccion_host_acceptance_rate  Prediccion_host_is_superhost  \\\n",
       "3071                            106.0                    122.333333   \n",
       "3101                            106.0                    122.333333   \n",
       "3678                            155.0                    122.333333   \n",
       "\n",
       "      Prediccion_room_type  Prediccion_host_identity_verified  \\\n",
       "3071            122.333333                         122.333333   \n",
       "3101            122.333333                         122.333333   \n",
       "3678            122.333333                         122.333333   \n",
       "\n",
       "      Prediccion_property_type  host_acceptance_rate  host_is_superhost  \\\n",
       "3071                170.333333                   100                  0   \n",
       "3101                 74.333333                   100                  0   \n",
       "3678                122.333333                    81                  0   \n",
       "\n",
       "      host_identity_verified  property_type  room_type  price  \\\n",
       "3071                       1           48.0          3  154.0   \n",
       "3101                       1           46.0          3   58.0   \n",
       "3678                       1           47.0          3  155.0   \n",
       "\n",
       "      instant_bookable  accommodates  bathrooms  review_scores_cleanliness  \n",
       "3071                 0           1.0        1.8                        4.6  \n",
       "3101                 0           1.0        1.8                        4.6  \n",
       "3678                 0           4.0        1.0                        4.6  "
      ]
     },
     "execution_count": 50,
     "metadata": {},
     "output_type": "execute_result"
    }
   ],
   "source": [
    "#insertamos la columna de predicciones en el DataFrame \n",
    "f2.insert(4, 'Prediccion_property_type', y_pred5)\n",
    "f2"
   ]
  },
  {
   "cell_type": "code",
   "execution_count": 51,
   "metadata": {},
   "outputs": [
    {
     "data": {
      "text/html": [
       "<div>\n",
       "<style scoped>\n",
       "    .dataframe tbody tr th:only-of-type {\n",
       "        vertical-align: middle;\n",
       "    }\n",
       "\n",
       "    .dataframe tbody tr th {\n",
       "        vertical-align: top;\n",
       "    }\n",
       "\n",
       "    .dataframe thead th {\n",
       "        text-align: right;\n",
       "    }\n",
       "</style>\n",
       "<table border=\"1\" class=\"dataframe\">\n",
       "  <thead>\n",
       "    <tr style=\"text-align: right;\">\n",
       "      <th></th>\n",
       "      <th>Prediccion_host_acceptance_rate</th>\n",
       "      <th>Prediccion_host_is_superhost</th>\n",
       "      <th>Prediccion_room_type</th>\n",
       "      <th>Prediccion_host_identity_verified</th>\n",
       "      <th>Prediccion_property_type</th>\n",
       "      <th>Prediccion_instant_bookable</th>\n",
       "      <th>host_acceptance_rate</th>\n",
       "      <th>host_is_superhost</th>\n",
       "      <th>host_identity_verified</th>\n",
       "      <th>property_type</th>\n",
       "      <th>room_type</th>\n",
       "      <th>price</th>\n",
       "      <th>instant_bookable</th>\n",
       "      <th>accommodates</th>\n",
       "      <th>bathrooms</th>\n",
       "      <th>review_scores_cleanliness</th>\n",
       "    </tr>\n",
       "  </thead>\n",
       "  <tbody>\n",
       "    <tr>\n",
       "      <th>3071</th>\n",
       "      <td>106.0</td>\n",
       "      <td>122.333333</td>\n",
       "      <td>122.333333</td>\n",
       "      <td>122.333333</td>\n",
       "      <td>170.333333</td>\n",
       "      <td>122.333333</td>\n",
       "      <td>100</td>\n",
       "      <td>0</td>\n",
       "      <td>1</td>\n",
       "      <td>48.0</td>\n",
       "      <td>3</td>\n",
       "      <td>154.0</td>\n",
       "      <td>0</td>\n",
       "      <td>1.0</td>\n",
       "      <td>1.8</td>\n",
       "      <td>4.6</td>\n",
       "    </tr>\n",
       "    <tr>\n",
       "      <th>3101</th>\n",
       "      <td>106.0</td>\n",
       "      <td>122.333333</td>\n",
       "      <td>122.333333</td>\n",
       "      <td>122.333333</td>\n",
       "      <td>74.333333</td>\n",
       "      <td>122.333333</td>\n",
       "      <td>100</td>\n",
       "      <td>0</td>\n",
       "      <td>1</td>\n",
       "      <td>46.0</td>\n",
       "      <td>3</td>\n",
       "      <td>58.0</td>\n",
       "      <td>0</td>\n",
       "      <td>1.0</td>\n",
       "      <td>1.8</td>\n",
       "      <td>4.6</td>\n",
       "    </tr>\n",
       "    <tr>\n",
       "      <th>3678</th>\n",
       "      <td>155.0</td>\n",
       "      <td>122.333333</td>\n",
       "      <td>122.333333</td>\n",
       "      <td>122.333333</td>\n",
       "      <td>122.333333</td>\n",
       "      <td>122.333333</td>\n",
       "      <td>81</td>\n",
       "      <td>0</td>\n",
       "      <td>1</td>\n",
       "      <td>47.0</td>\n",
       "      <td>3</td>\n",
       "      <td>155.0</td>\n",
       "      <td>0</td>\n",
       "      <td>4.0</td>\n",
       "      <td>1.0</td>\n",
       "      <td>4.6</td>\n",
       "    </tr>\n",
       "  </tbody>\n",
       "</table>\n",
       "</div>"
      ],
      "text/plain": [
       "      Prediccion_host_acceptance_rate  Prediccion_host_is_superhost  \\\n",
       "3071                            106.0                    122.333333   \n",
       "3101                            106.0                    122.333333   \n",
       "3678                            155.0                    122.333333   \n",
       "\n",
       "      Prediccion_room_type  Prediccion_host_identity_verified  \\\n",
       "3071            122.333333                         122.333333   \n",
       "3101            122.333333                         122.333333   \n",
       "3678            122.333333                         122.333333   \n",
       "\n",
       "      Prediccion_property_type  Prediccion_instant_bookable  \\\n",
       "3071                170.333333                   122.333333   \n",
       "3101                 74.333333                   122.333333   \n",
       "3678                122.333333                   122.333333   \n",
       "\n",
       "      host_acceptance_rate  host_is_superhost  host_identity_verified  \\\n",
       "3071                   100                  0                       1   \n",
       "3101                   100                  0                       1   \n",
       "3678                    81                  0                       1   \n",
       "\n",
       "      property_type  room_type  price  instant_bookable  accommodates  \\\n",
       "3071           48.0          3  154.0                 0           1.0   \n",
       "3101           46.0          3   58.0                 0           1.0   \n",
       "3678           47.0          3  155.0                 0           4.0   \n",
       "\n",
       "      bathrooms  review_scores_cleanliness  \n",
       "3071        1.8                        4.6  \n",
       "3101        1.8                        4.6  \n",
       "3678        1.0                        4.6  "
      ]
     },
     "execution_count": 51,
     "metadata": {},
     "output_type": "execute_result"
    }
   ],
   "source": [
    "#insertamos la columna de predicciones en el DataFrame \n",
    "f2.insert(5, 'Prediccion_instant_bookable', y_pred6)\n",
    "f2"
   ]
  },
  {
   "cell_type": "code",
   "execution_count": 52,
   "metadata": {},
   "outputs": [
    {
     "data": {
      "text/html": [
       "<div>\n",
       "<style scoped>\n",
       "    .dataframe tbody tr th:only-of-type {\n",
       "        vertical-align: middle;\n",
       "    }\n",
       "\n",
       "    .dataframe tbody tr th {\n",
       "        vertical-align: top;\n",
       "    }\n",
       "\n",
       "    .dataframe thead th {\n",
       "        text-align: right;\n",
       "    }\n",
       "</style>\n",
       "<table border=\"1\" class=\"dataframe\">\n",
       "  <thead>\n",
       "    <tr style=\"text-align: right;\">\n",
       "      <th></th>\n",
       "      <th>Prediccion_host_acceptance_rate</th>\n",
       "      <th>Prediccion_host_is_superhost</th>\n",
       "      <th>Prediccion_room_type</th>\n",
       "      <th>Prediccion_host_identity_verified</th>\n",
       "      <th>Prediccion_property_type</th>\n",
       "      <th>Prediccion_instant_bookable</th>\n",
       "      <th>Prediccion_review_scores_cleanliness</th>\n",
       "      <th>host_acceptance_rate</th>\n",
       "      <th>host_is_superhost</th>\n",
       "      <th>host_identity_verified</th>\n",
       "      <th>property_type</th>\n",
       "      <th>room_type</th>\n",
       "      <th>price</th>\n",
       "      <th>instant_bookable</th>\n",
       "      <th>accommodates</th>\n",
       "      <th>bathrooms</th>\n",
       "      <th>review_scores_cleanliness</th>\n",
       "    </tr>\n",
       "  </thead>\n",
       "  <tbody>\n",
       "    <tr>\n",
       "      <th>3071</th>\n",
       "      <td>106.0</td>\n",
       "      <td>122.333333</td>\n",
       "      <td>122.333333</td>\n",
       "      <td>122.333333</td>\n",
       "      <td>170.333333</td>\n",
       "      <td>122.333333</td>\n",
       "      <td>122.333333</td>\n",
       "      <td>100</td>\n",
       "      <td>0</td>\n",
       "      <td>1</td>\n",
       "      <td>48.0</td>\n",
       "      <td>3</td>\n",
       "      <td>154.0</td>\n",
       "      <td>0</td>\n",
       "      <td>1.0</td>\n",
       "      <td>1.8</td>\n",
       "      <td>4.6</td>\n",
       "    </tr>\n",
       "    <tr>\n",
       "      <th>3101</th>\n",
       "      <td>106.0</td>\n",
       "      <td>122.333333</td>\n",
       "      <td>122.333333</td>\n",
       "      <td>122.333333</td>\n",
       "      <td>74.333333</td>\n",
       "      <td>122.333333</td>\n",
       "      <td>122.333333</td>\n",
       "      <td>100</td>\n",
       "      <td>0</td>\n",
       "      <td>1</td>\n",
       "      <td>46.0</td>\n",
       "      <td>3</td>\n",
       "      <td>58.0</td>\n",
       "      <td>0</td>\n",
       "      <td>1.0</td>\n",
       "      <td>1.8</td>\n",
       "      <td>4.6</td>\n",
       "    </tr>\n",
       "    <tr>\n",
       "      <th>3678</th>\n",
       "      <td>155.0</td>\n",
       "      <td>122.333333</td>\n",
       "      <td>122.333333</td>\n",
       "      <td>122.333333</td>\n",
       "      <td>122.333333</td>\n",
       "      <td>122.333333</td>\n",
       "      <td>122.333333</td>\n",
       "      <td>81</td>\n",
       "      <td>0</td>\n",
       "      <td>1</td>\n",
       "      <td>47.0</td>\n",
       "      <td>3</td>\n",
       "      <td>155.0</td>\n",
       "      <td>0</td>\n",
       "      <td>4.0</td>\n",
       "      <td>1.0</td>\n",
       "      <td>4.6</td>\n",
       "    </tr>\n",
       "  </tbody>\n",
       "</table>\n",
       "</div>"
      ],
      "text/plain": [
       "      Prediccion_host_acceptance_rate  Prediccion_host_is_superhost  \\\n",
       "3071                            106.0                    122.333333   \n",
       "3101                            106.0                    122.333333   \n",
       "3678                            155.0                    122.333333   \n",
       "\n",
       "      Prediccion_room_type  Prediccion_host_identity_verified  \\\n",
       "3071            122.333333                         122.333333   \n",
       "3101            122.333333                         122.333333   \n",
       "3678            122.333333                         122.333333   \n",
       "\n",
       "      Prediccion_property_type  Prediccion_instant_bookable  \\\n",
       "3071                170.333333                   122.333333   \n",
       "3101                 74.333333                   122.333333   \n",
       "3678                122.333333                   122.333333   \n",
       "\n",
       "      Prediccion_review_scores_cleanliness  host_acceptance_rate  \\\n",
       "3071                            122.333333                   100   \n",
       "3101                            122.333333                   100   \n",
       "3678                            122.333333                    81   \n",
       "\n",
       "      host_is_superhost  host_identity_verified  property_type  room_type  \\\n",
       "3071                  0                       1           48.0          3   \n",
       "3101                  0                       1           46.0          3   \n",
       "3678                  0                       1           47.0          3   \n",
       "\n",
       "      price  instant_bookable  accommodates  bathrooms  \\\n",
       "3071  154.0                 0           1.0        1.8   \n",
       "3101   58.0                 0           1.0        1.8   \n",
       "3678  155.0                 0           4.0        1.0   \n",
       "\n",
       "      review_scores_cleanliness  \n",
       "3071                        4.6  \n",
       "3101                        4.6  \n",
       "3678                        4.6  "
      ]
     },
     "execution_count": 52,
     "metadata": {},
     "output_type": "execute_result"
    }
   ],
   "source": [
    "#insertamos la columna de predicciones en el DataFrame \n",
    "f2.insert(6, 'Prediccion_review_scores_cleanliness', y_pred7)\n",
    "f2"
   ]
  },
  {
   "cell_type": "code",
   "execution_count": 53,
   "metadata": {},
   "outputs": [
    {
     "data": {
      "text/html": [
       "<div>\n",
       "<style scoped>\n",
       "    .dataframe tbody tr th:only-of-type {\n",
       "        vertical-align: middle;\n",
       "    }\n",
       "\n",
       "    .dataframe tbody tr th {\n",
       "        vertical-align: top;\n",
       "    }\n",
       "\n",
       "    .dataframe thead th {\n",
       "        text-align: right;\n",
       "    }\n",
       "</style>\n",
       "<table border=\"1\" class=\"dataframe\">\n",
       "  <thead>\n",
       "    <tr style=\"text-align: right;\">\n",
       "      <th></th>\n",
       "      <th>Prediccion_host_acceptance_rate</th>\n",
       "      <th>Prediccion_host_is_superhost</th>\n",
       "      <th>Prediccion_room_type</th>\n",
       "      <th>Prediccion_host_identity_verified</th>\n",
       "      <th>Prediccion_property_type</th>\n",
       "      <th>Prediccion_instant_bookable</th>\n",
       "      <th>Prediccion_review_scores_cleanliness</th>\n",
       "      <th>Prediccion_bathrooms</th>\n",
       "      <th>host_acceptance_rate</th>\n",
       "      <th>host_is_superhost</th>\n",
       "      <th>host_identity_verified</th>\n",
       "      <th>property_type</th>\n",
       "      <th>room_type</th>\n",
       "      <th>price</th>\n",
       "      <th>instant_bookable</th>\n",
       "      <th>accommodates</th>\n",
       "      <th>bathrooms</th>\n",
       "      <th>review_scores_cleanliness</th>\n",
       "    </tr>\n",
       "  </thead>\n",
       "  <tbody>\n",
       "    <tr>\n",
       "      <th>3071</th>\n",
       "      <td>106.0</td>\n",
       "      <td>122.333333</td>\n",
       "      <td>122.333333</td>\n",
       "      <td>122.333333</td>\n",
       "      <td>170.333333</td>\n",
       "      <td>122.333333</td>\n",
       "      <td>122.333333</td>\n",
       "      <td>1.0</td>\n",
       "      <td>100</td>\n",
       "      <td>0</td>\n",
       "      <td>1</td>\n",
       "      <td>48.0</td>\n",
       "      <td>3</td>\n",
       "      <td>154.0</td>\n",
       "      <td>0</td>\n",
       "      <td>1.0</td>\n",
       "      <td>1.8</td>\n",
       "      <td>4.6</td>\n",
       "    </tr>\n",
       "    <tr>\n",
       "      <th>3101</th>\n",
       "      <td>106.0</td>\n",
       "      <td>122.333333</td>\n",
       "      <td>122.333333</td>\n",
       "      <td>122.333333</td>\n",
       "      <td>74.333333</td>\n",
       "      <td>122.333333</td>\n",
       "      <td>122.333333</td>\n",
       "      <td>1.0</td>\n",
       "      <td>100</td>\n",
       "      <td>0</td>\n",
       "      <td>1</td>\n",
       "      <td>46.0</td>\n",
       "      <td>3</td>\n",
       "      <td>58.0</td>\n",
       "      <td>0</td>\n",
       "      <td>1.0</td>\n",
       "      <td>1.8</td>\n",
       "      <td>4.6</td>\n",
       "    </tr>\n",
       "    <tr>\n",
       "      <th>3678</th>\n",
       "      <td>155.0</td>\n",
       "      <td>122.333333</td>\n",
       "      <td>122.333333</td>\n",
       "      <td>122.333333</td>\n",
       "      <td>122.333333</td>\n",
       "      <td>122.333333</td>\n",
       "      <td>122.333333</td>\n",
       "      <td>4.0</td>\n",
       "      <td>81</td>\n",
       "      <td>0</td>\n",
       "      <td>1</td>\n",
       "      <td>47.0</td>\n",
       "      <td>3</td>\n",
       "      <td>155.0</td>\n",
       "      <td>0</td>\n",
       "      <td>4.0</td>\n",
       "      <td>1.0</td>\n",
       "      <td>4.6</td>\n",
       "    </tr>\n",
       "  </tbody>\n",
       "</table>\n",
       "</div>"
      ],
      "text/plain": [
       "      Prediccion_host_acceptance_rate  Prediccion_host_is_superhost  \\\n",
       "3071                            106.0                    122.333333   \n",
       "3101                            106.0                    122.333333   \n",
       "3678                            155.0                    122.333333   \n",
       "\n",
       "      Prediccion_room_type  Prediccion_host_identity_verified  \\\n",
       "3071            122.333333                         122.333333   \n",
       "3101            122.333333                         122.333333   \n",
       "3678            122.333333                         122.333333   \n",
       "\n",
       "      Prediccion_property_type  Prediccion_instant_bookable  \\\n",
       "3071                170.333333                   122.333333   \n",
       "3101                 74.333333                   122.333333   \n",
       "3678                122.333333                   122.333333   \n",
       "\n",
       "      Prediccion_review_scores_cleanliness  Prediccion_bathrooms  \\\n",
       "3071                            122.333333                   1.0   \n",
       "3101                            122.333333                   1.0   \n",
       "3678                            122.333333                   4.0   \n",
       "\n",
       "      host_acceptance_rate  host_is_superhost  host_identity_verified  \\\n",
       "3071                   100                  0                       1   \n",
       "3101                   100                  0                       1   \n",
       "3678                    81                  0                       1   \n",
       "\n",
       "      property_type  room_type  price  instant_bookable  accommodates  \\\n",
       "3071           48.0          3  154.0                 0           1.0   \n",
       "3101           46.0          3   58.0                 0           1.0   \n",
       "3678           47.0          3  155.0                 0           4.0   \n",
       "\n",
       "      bathrooms  review_scores_cleanliness  \n",
       "3071        1.8                        4.6  \n",
       "3101        1.8                        4.6  \n",
       "3678        1.0                        4.6  "
      ]
     },
     "execution_count": 53,
     "metadata": {},
     "output_type": "execute_result"
    }
   ],
   "source": [
    "#insertamos la columna de predicciones en el DataFrame \n",
    "f2.insert(7, 'Prediccion_bathrooms', y_pred8)\n",
    "f2"
   ]
  },
  {
   "cell_type": "markdown",
   "metadata": {},
   "source": [
    "**Visuañizamos la grafica comparativa entre el total real y el total predicho**"
   ]
  },
  {
   "cell_type": "code",
   "execution_count": 54,
   "metadata": {},
   "outputs": [
    {
     "data": {
      "text/plain": [
       "<Axes: xlabel='host_acceptance_rate', ylabel='price'>"
      ]
     },
     "execution_count": 54,
     "metadata": {},
     "output_type": "execute_result"
    },
    {
     "data": {
      "image/png": "[encoded data removed]",
      "text/plain": [
       "<Figure size 640x480 with 1 Axes>"
      ]
     },
     "metadata": {},
     "output_type": "display_data"
    }
   ],
   "source": [
    "\n",
    "sns.scatterplot(x='host_acceptance_rate', y='price', color='blue', data=f2)\n",
    "sns.scatterplot(x='host_acceptance_rate', y='Prediccion_host_acceptance_rate', color='red', data=f2)\n",
    "#sns.lineplot(x='host_response_rate', y='Predicciones1', color='red', data=f2)"
   ]
  },
  {
   "cell_type": "code",
   "execution_count": 55,
   "metadata": {},
   "outputs": [
    {
     "data": {
      "text/plain": [
       "<Axes: xlabel='host_is_superhost', ylabel='price'>"
      ]
     },
     "execution_count": 55,
     "metadata": {},
     "output_type": "execute_result"
    },
    {
     "data": {
      "image/png": "[encoded data removed]",
      "text/plain": [
       "<Figure size 640x480 with 1 Axes>"
      ]
     },
     "metadata": {},
     "output_type": "display_data"
    }
   ],
   "source": [
    "\n",
    "sns.scatterplot(x='host_is_superhost', y='price', color='blue', data=f2)\n",
    "sns.scatterplot(x='host_is_superhost', y='Prediccion_host_is_superhost', color='red', data=f2)\n",
    "#sns.lineplot(x='host_is_superhost', y='Predicciones2', color='red', data=f2)"
   ]
  },
  {
   "cell_type": "code",
   "execution_count": 56,
   "metadata": {},
   "outputs": [
    {
     "data": {
      "text/plain": [
       "<Axes: xlabel='room_type', ylabel='price'>"
      ]
     },
     "execution_count": 56,
     "metadata": {},
     "output_type": "execute_result"
    },
    {
     "data": {
      "image/png": "[encoded data removed]",
      "text/plain": [
       "<Figure size 640x480 with 1 Axes>"
      ]
     },
     "metadata": {},
     "output_type": "display_data"
    }
   ],
   "source": [
    "\n",
    "sns.scatterplot(x='room_type', y='price', color='blue', data=f2)\n",
    "sns.scatterplot(x='room_type', y='Prediccion_room_type', color='red', data=f2)\n",
    "#sns.lineplot(x='host_response_rate', y='Predicciones1', color='red', data=f2)"
   ]
  },
  {
   "cell_type": "code",
   "execution_count": 57,
   "metadata": {},
   "outputs": [
    {
     "data": {
      "text/plain": [
       "<Axes: xlabel='host_identity_verified', ylabel='price'>"
      ]
     },
     "execution_count": 57,
     "metadata": {},
     "output_type": "execute_result"
    },
    {
     "data": {
      "image/png": "[encoded data removed]",
      "text/plain": [
       "<Figure size 640x480 with 1 Axes>"
      ]
     },
     "metadata": {},
     "output_type": "display_data"
    }
   ],
   "source": [
    "sns.scatterplot(x='host_identity_verified', y='price', color='blue', data=f2)\n",
    "sns.scatterplot(x='host_identity_verified', y='Prediccion_host_identity_verified', color='red', data=f2)\n",
    "#sns.lineplot(x='host_response_rate', y='Predicciones1', color='red', data=f2)"
   ]
  },
  {
   "cell_type": "code",
   "execution_count": 58,
   "metadata": {},
   "outputs": [
    {
     "data": {
      "text/plain": [
       "<Axes: xlabel='property_type', ylabel='price'>"
      ]
     },
     "execution_count": 58,
     "metadata": {},
     "output_type": "execute_result"
    },
    {
     "data": {
      "image/png": "[encoded data removed]",
      "text/plain": [
       "<Figure size 640x480 with 1 Axes>"
      ]
     },
     "metadata": {},
     "output_type": "display_data"
    }
   ],
   "source": [
    "\n",
    "sns.scatterplot(x='property_type', y='price', color='blue', data=f2)\n",
    "sns.scatterplot(x='property_type', y='Prediccion_property_type', color='red', data=f2)\n",
    "#sns.lineplot(x='host_response_rate', y='Predicciones1', color='red', data=f2)"
   ]
  },
  {
   "cell_type": "code",
   "execution_count": 59,
   "metadata": {},
   "outputs": [
    {
     "data": {
      "text/plain": [
       "<Axes: xlabel='instant_bookable', ylabel='price'>"
      ]
     },
     "execution_count": 59,
     "metadata": {},
     "output_type": "execute_result"
    },
    {
     "data": {
      "image/png": "[encoded data removed]",
      "text/plain": [
       "<Figure size 640x480 with 1 Axes>"
      ]
     },
     "metadata": {},
     "output_type": "display_data"
    }
   ],
   "source": [
    "\n",
    "sns.scatterplot(x='instant_bookable', y='price', color='blue', data=f2)\n",
    "sns.scatterplot(x='instant_bookable', y='Prediccion_instant_bookable', color='red', data=f2)\n",
    "#sns.lineplot(x='host_response_rate', y='Predicciones1', color='red', data=f2)"
   ]
  },
  {
   "cell_type": "code",
   "execution_count": 60,
   "metadata": {},
   "outputs": [
    {
     "data": {
      "text/plain": [
       "<Axes: xlabel='review_scores_cleanliness', ylabel='price'>"
      ]
     },
     "execution_count": 60,
     "metadata": {},
     "output_type": "execute_result"
    },
    {
     "data": {
      "image/png": "[encoded data removed]",
      "text/plain": [
       "<Figure size 640x480 with 1 Axes>"
      ]
     },
     "metadata": {},
     "output_type": "display_data"
    }
   ],
   "source": [
    "sns.scatterplot(x='review_scores_cleanliness', y='price', color='blue', data=f2)\n",
    "sns.scatterplot(x='review_scores_cleanliness', y='Prediccion_review_scores_cleanliness', color='red', data=f2)\n",
    "#sns.lineplot(x='host_response_rate', y='Predicciones1', color='red', data=f2)"
   ]
  },
  {
   "cell_type": "code",
   "execution_count": 61,
   "metadata": {},
   "outputs": [
    {
     "data": {
      "text/plain": [
       "<Axes: xlabel='bathrooms', ylabel='accommodates'>"
      ]
     },
     "execution_count": 61,
     "metadata": {},
     "output_type": "execute_result"
    },
    {
     "data": {
      "image/png": "[encoded data removed]",
      "text/plain": [
       "<Figure size 640x480 with 1 Axes>"
      ]
     },
     "metadata": {},
     "output_type": "display_data"
    }
   ],
   "source": [
    "\n",
    "sns.scatterplot(x='bathrooms', y='accommodates', color='blue', data=f2)\n",
    "sns.scatterplot(x='bathrooms', y='Prediccion_bathrooms', color='red', data=f2)\n",
    "#sns.lineplot(x='host_response_rate', y='Predicciones1', color='red', data=f2)"
   ]
  },
  {
   "cell_type": "markdown",
   "metadata": {},
   "source": [
    "**COEFICIENTES DE DETERMINACIÓN**"
   ]
  },
  {
   "cell_type": "code",
   "execution_count": 62,
   "metadata": {},
   "outputs": [
    {
     "data": {
      "text/plain": [
       "0.2578116611188661"
      ]
     },
     "execution_count": 62,
     "metadata": {},
     "output_type": "execute_result"
    }
   ],
   "source": [
    "#Corroboramos cual es el coeficiente de Determinación de nuestro modelo\n",
    "coef_Deter= model.score(X=Var_Indep, y=Var_Dep)\n",
    "coef_Deter"
   ]
  },
  {
   "cell_type": "code",
   "execution_count": 63,
   "metadata": {},
   "outputs": [
    {
     "data": {
      "text/plain": [
       "0.0"
      ]
     },
     "execution_count": 63,
     "metadata": {},
     "output_type": "execute_result"
    }
   ],
   "source": [
    "#Corroboramos cual es el coeficiente de Determinación de nuestro modelo\n",
    "coef_Deter2= model2.score(X=Var_Indep2, y=Var_Dep)\n",
    "coef_Deter2"
   ]
  },
  {
   "cell_type": "code",
   "execution_count": 64,
   "metadata": {},
   "outputs": [
    {
     "data": {
      "text/plain": [
       "0.0"
      ]
     },
     "execution_count": 64,
     "metadata": {},
     "output_type": "execute_result"
    }
   ],
   "source": [
    "#Corroboramos cual es el coeficiente de Determinación de nuestro modelo\n",
    "coef_Deter3= model3.score(X=Var_Indep3, y=Var_Dep)\n",
    "coef_Deter3"
   ]
  },
  {
   "cell_type": "code",
   "execution_count": 65,
   "metadata": {},
   "outputs": [
    {
     "data": {
      "text/plain": [
       "0.0"
      ]
     },
     "execution_count": 65,
     "metadata": {},
     "output_type": "execute_result"
    }
   ],
   "source": [
    "#Corroboramos cual es el coeficiente de Determinación de nuestro modelo\n",
    "coef_Deter4= model4.score(X=Var_Indep4, y=Var_Dep)\n",
    "coef_Deter4"
   ]
  },
  {
   "cell_type": "code",
   "execution_count": 66,
   "metadata": {},
   "outputs": [
    {
     "data": {
      "text/plain": [
       "0.7421883388811339"
      ]
     },
     "execution_count": 66,
     "metadata": {},
     "output_type": "execute_result"
    }
   ],
   "source": [
    "#Corroboramos cual es el coeficiente de Determinación de nuestro modelo\n",
    "coef_Deter5= model5.score(X=Var_Indep5, y=Var_Dep)\n",
    "coef_Deter5"
   ]
  },
  {
   "cell_type": "code",
   "execution_count": 67,
   "metadata": {},
   "outputs": [
    {
     "data": {
      "text/plain": [
       "0.0"
      ]
     },
     "execution_count": 67,
     "metadata": {},
     "output_type": "execute_result"
    }
   ],
   "source": [
    "#Corroboramos cual es el coeficiente de Determinación de nuestro modelo\n",
    "coef_Deter6= model6.score(X=Var_Indep6, y=Var_Dep)\n",
    "coef_Deter6"
   ]
  },
  {
   "cell_type": "code",
   "execution_count": 68,
   "metadata": {},
   "outputs": [
    {
     "data": {
      "text/plain": [
       "0.0"
      ]
     },
     "execution_count": 68,
     "metadata": {},
     "output_type": "execute_result"
    }
   ],
   "source": [
    "#Corroboramos cual es el coeficiente de Determinación de nuestro modelo\n",
    "coef_Deter7= model7.score(X=Var_Indep7, y=Var_Dep)\n",
    "coef_Deter7"
   ]
  },
  {
   "cell_type": "code",
   "execution_count": 69,
   "metadata": {},
   "outputs": [
    {
     "data": {
      "text/plain": [
       "1.0"
      ]
     },
     "execution_count": 69,
     "metadata": {},
     "output_type": "execute_result"
    }
   ],
   "source": [
    "#Corroboramos cual es el coeficiente de Determinación de nuestro modelo\n",
    "coef_Deter8= model8.score(X=Var_Indep8, y=Var_Dep2)\n",
    "coef_Deter8"
   ]
  },
  {
   "cell_type": "markdown",
   "metadata": {},
   "source": [
    "**COEFICIENTES DE CORRELACIÓN**"
   ]
  },
  {
   "cell_type": "code",
   "execution_count": 70,
   "metadata": {},
   "outputs": [
    {
     "data": {
      "text/plain": [
       "0.5077515742160393"
      ]
     },
     "execution_count": 70,
     "metadata": {},
     "output_type": "execute_result"
    }
   ],
   "source": [
    "#Corroboramos cual es el coeficiente de Correlación de nuestro modelo\n",
    "coef_Correl=np.sqrt(coef_Deter)\n",
    "coef_Correl"
   ]
  },
  {
   "cell_type": "code",
   "execution_count": 71,
   "metadata": {},
   "outputs": [
    {
     "data": {
      "text/plain": [
       "0.0"
      ]
     },
     "execution_count": 71,
     "metadata": {},
     "output_type": "execute_result"
    }
   ],
   "source": [
    "#Corroboramos cual es el coeficiente de Correlación de nuestro modelo\n",
    "coef_Correl2=np.sqrt(coef_Deter2)\n",
    "coef_Correl2"
   ]
  },
  {
   "cell_type": "code",
   "execution_count": 72,
   "metadata": {},
   "outputs": [
    {
     "data": {
      "text/plain": [
       "0.0"
      ]
     },
     "execution_count": 72,
     "metadata": {},
     "output_type": "execute_result"
    }
   ],
   "source": [
    "#Corroboramos cual es el coeficiente de Correlación de nuestro modelo\n",
    "coef_Correl3=np.sqrt(coef_Deter2)\n",
    "coef_Correl3"
   ]
  },
  {
   "cell_type": "code",
   "execution_count": 73,
   "metadata": {},
   "outputs": [
    {
     "data": {
      "text/plain": [
       "0.0"
      ]
     },
     "execution_count": 73,
     "metadata": {},
     "output_type": "execute_result"
    }
   ],
   "source": [
    "#Corroboramos cual es el coeficiente de Correlación de nuestro modelo\n",
    "coef_Correl4=np.sqrt(coef_Deter4)\n",
    "coef_Correl4"
   ]
  },
  {
   "cell_type": "code",
   "execution_count": 74,
   "metadata": {},
   "outputs": [
    {
     "data": {
      "text/plain": [
       "0.8615035338761727"
      ]
     },
     "execution_count": 74,
     "metadata": {},
     "output_type": "execute_result"
    }
   ],
   "source": [
    "#Corroboramos cual es el coeficiente de Correlación de nuestro modelo\n",
    "coef_Correl5=np.sqrt(coef_Deter5)\n",
    "coef_Correl5"
   ]
  },
  {
   "cell_type": "code",
   "execution_count": 75,
   "metadata": {},
   "outputs": [
    {
     "data": {
      "text/plain": [
       "0.0"
      ]
     },
     "execution_count": 75,
     "metadata": {},
     "output_type": "execute_result"
    }
   ],
   "source": [
    "#Corroboramos cual es el coeficiente de Correlación de nuestro modelo\n",
    "coef_Correl6=np.sqrt(coef_Deter6)\n",
    "coef_Correl6"
   ]
  },
  {
   "cell_type": "code",
   "execution_count": 76,
   "metadata": {},
   "outputs": [
    {
     "data": {
      "text/plain": [
       "0.0"
      ]
     },
     "execution_count": 76,
     "metadata": {},
     "output_type": "execute_result"
    }
   ],
   "source": [
    "#Corroboramos cual es el coeficiente de Correlación de nuestro modelo\n",
    "coef_Correl7=np.sqrt(coef_Deter7)\n",
    "coef_Correl7"
   ]
  },
  {
   "cell_type": "code",
   "execution_count": 77,
   "metadata": {},
   "outputs": [
    {
     "data": {
      "text/plain": [
       "1.0"
      ]
     },
     "execution_count": 77,
     "metadata": {},
     "output_type": "execute_result"
    }
   ],
   "source": [
    "#Corroboramos cual es el coeficiente de Correlación de nuestro modelo\n",
    "coef_Correl8=np.sqrt(coef_Deter8)\n",
    "coef_Correl8"
   ]
  },
  {
   "cell_type": "code",
   "execution_count": 78,
   "metadata": {},
   "outputs": [],
   "source": [
    "#eliminamos room_type y su prediccion \n",
    "\n",
    "f2= f2.drop(['room_type', 'Prediccion_room_type' ], axis=1)"
   ]
  },
  {
   "cell_type": "code",
   "execution_count": 79,
   "metadata": {},
   "outputs": [
    {
     "name": "stderr",
     "output_type": "stream",
     "text": [
      "c:\\Users\\ben31\\AppData\\Local\\Programs\\Python\\Python312\\Lib\\site-packages\\seaborn\\_oldcore.py:1119: FutureWarning: use_inf_as_na option is deprecated and will be removed in a future version. Convert inf values to NaN before operating instead.\n",
      "  with pd.option_context('mode.use_inf_as_na', True):\n",
      "c:\\Users\\ben31\\AppData\\Local\\Programs\\Python\\Python312\\Lib\\site-packages\\seaborn\\_oldcore.py:1119: FutureWarning: use_inf_as_na option is deprecated and will be removed in a future version. Convert inf values to NaN before operating instead.\n",
      "  with pd.option_context('mode.use_inf_as_na', True):\n",
      "c:\\Users\\ben31\\AppData\\Local\\Programs\\Python\\Python312\\Lib\\site-packages\\seaborn\\_oldcore.py:1119: FutureWarning: use_inf_as_na option is deprecated and will be removed in a future version. Convert inf values to NaN before operating instead.\n",
      "  with pd.option_context('mode.use_inf_as_na', True):\n",
      "c:\\Users\\ben31\\AppData\\Local\\Programs\\Python\\Python312\\Lib\\site-packages\\seaborn\\_oldcore.py:1119: FutureWarning: use_inf_as_na option is deprecated and will be removed in a future version. Convert inf values to NaN before operating instead.\n",
      "  with pd.option_context('mode.use_inf_as_na', True):\n",
      "c:\\Users\\ben31\\AppData\\Local\\Programs\\Python\\Python312\\Lib\\site-packages\\seaborn\\_oldcore.py:1119: FutureWarning: use_inf_as_na option is deprecated and will be removed in a future version. Convert inf values to NaN before operating instead.\n",
      "  with pd.option_context('mode.use_inf_as_na', True):\n",
      "c:\\Users\\ben31\\AppData\\Local\\Programs\\Python\\Python312\\Lib\\site-packages\\seaborn\\_oldcore.py:1119: FutureWarning: use_inf_as_na option is deprecated and will be removed in a future version. Convert inf values to NaN before operating instead.\n",
      "  with pd.option_context('mode.use_inf_as_na', True):\n",
      "c:\\Users\\ben31\\AppData\\Local\\Programs\\Python\\Python312\\Lib\\site-packages\\seaborn\\_oldcore.py:1119: FutureWarning: use_inf_as_na option is deprecated and will be removed in a future version. Convert inf values to NaN before operating instead.\n",
      "  with pd.option_context('mode.use_inf_as_na', True):\n",
      "c:\\Users\\ben31\\AppData\\Local\\Programs\\Python\\Python312\\Lib\\site-packages\\seaborn\\_oldcore.py:1119: FutureWarning: use_inf_as_na option is deprecated and will be removed in a future version. Convert inf values to NaN before operating instead.\n",
      "  with pd.option_context('mode.use_inf_as_na', True):\n",
      "c:\\Users\\ben31\\AppData\\Local\\Programs\\Python\\Python312\\Lib\\site-packages\\seaborn\\_oldcore.py:1119: FutureWarning: use_inf_as_na option is deprecated and will be removed in a future version. Convert inf values to NaN before operating instead.\n",
      "  with pd.option_context('mode.use_inf_as_na', True):\n",
      "c:\\Users\\ben31\\AppData\\Local\\Programs\\Python\\Python312\\Lib\\site-packages\\seaborn\\_oldcore.py:1119: FutureWarning: use_inf_as_na option is deprecated and will be removed in a future version. Convert inf values to NaN before operating instead.\n",
      "  with pd.option_context('mode.use_inf_as_na', True):\n",
      "c:\\Users\\ben31\\AppData\\Local\\Programs\\Python\\Python312\\Lib\\site-packages\\seaborn\\_oldcore.py:1119: FutureWarning: use_inf_as_na option is deprecated and will be removed in a future version. Convert inf values to NaN before operating instead.\n",
      "  with pd.option_context('mode.use_inf_as_na', True):\n",
      "c:\\Users\\ben31\\AppData\\Local\\Programs\\Python\\Python312\\Lib\\site-packages\\seaborn\\_oldcore.py:1119: FutureWarning: use_inf_as_na option is deprecated and will be removed in a future version. Convert inf values to NaN before operating instead.\n",
      "  with pd.option_context('mode.use_inf_as_na', True):\n",
      "c:\\Users\\ben31\\AppData\\Local\\Programs\\Python\\Python312\\Lib\\site-packages\\seaborn\\_oldcore.py:1119: FutureWarning: use_inf_as_na option is deprecated and will be removed in a future version. Convert inf values to NaN before operating instead.\n",
      "  with pd.option_context('mode.use_inf_as_na', True):\n",
      "c:\\Users\\ben31\\AppData\\Local\\Programs\\Python\\Python312\\Lib\\site-packages\\seaborn\\_oldcore.py:1119: FutureWarning: use_inf_as_na option is deprecated and will be removed in a future version. Convert inf values to NaN before operating instead.\n",
      "  with pd.option_context('mode.use_inf_as_na', True):\n",
      "c:\\Users\\ben31\\AppData\\Local\\Programs\\Python\\Python312\\Lib\\site-packages\\seaborn\\_oldcore.py:1119: FutureWarning: use_inf_as_na option is deprecated and will be removed in a future version. Convert inf values to NaN before operating instead.\n",
      "  with pd.option_context('mode.use_inf_as_na', True):\n",
      "c:\\Users\\ben31\\AppData\\Local\\Programs\\Python\\Python312\\Lib\\site-packages\\seaborn\\_oldcore.py:1119: FutureWarning: use_inf_as_na option is deprecated and will be removed in a future version. Convert inf values to NaN before operating instead.\n",
      "  with pd.option_context('mode.use_inf_as_na', True):\n"
     ]
    },
    {
     "data": {
      "text/plain": [
       "<seaborn.axisgrid.PairGrid at 0x271764db5c0>"
      ]
     },
     "execution_count": 79,
     "metadata": {},
     "output_type": "execute_result"
    },
    {
     "data": {
      "image/png": "[encoded data removed]",
      "text/plain": [
       "<Figure size 4000x4000 with 272 Axes>"
      ]
     },
     "metadata": {},
     "output_type": "display_data"
    }
   ],
   "source": [
    "#Graficamos todas las dispersiones entre todas las variables\n",
    "sns.pairplot(f2)"
   ]
  },
  {
   "cell_type": "code",
   "execution_count": 80,
   "metadata": {},
   "outputs": [
    {
     "data": {
      "text/html": [
       "<div>\n",
       "<style scoped>\n",
       "    .dataframe tbody tr th:only-of-type {\n",
       "        vertical-align: middle;\n",
       "    }\n",
       "\n",
       "    .dataframe tbody tr th {\n",
       "        vertical-align: top;\n",
       "    }\n",
       "\n",
       "    .dataframe thead th {\n",
       "        text-align: right;\n",
       "    }\n",
       "</style>\n",
       "<table border=\"1\" class=\"dataframe\">\n",
       "  <thead>\n",
       "    <tr style=\"text-align: right;\">\n",
       "      <th></th>\n",
       "      <th>Prediccion_host_acceptance_rate</th>\n",
       "      <th>Prediccion_host_is_superhost</th>\n",
       "      <th>Prediccion_host_identity_verified</th>\n",
       "      <th>Prediccion_property_type</th>\n",
       "      <th>Prediccion_instant_bookable</th>\n",
       "      <th>Prediccion_review_scores_cleanliness</th>\n",
       "      <th>Prediccion_bathrooms</th>\n",
       "      <th>host_acceptance_rate</th>\n",
       "      <th>host_is_superhost</th>\n",
       "      <th>host_identity_verified</th>\n",
       "      <th>property_type</th>\n",
       "      <th>price</th>\n",
       "      <th>instant_bookable</th>\n",
       "      <th>accommodates</th>\n",
       "      <th>bathrooms</th>\n",
       "      <th>review_scores_cleanliness</th>\n",
       "    </tr>\n",
       "  </thead>\n",
       "  <tbody>\n",
       "    <tr>\n",
       "      <th>Prediccion_host_acceptance_rate</th>\n",
       "      <td>1.000000</td>\n",
       "      <td>NaN</td>\n",
       "      <td>NaN</td>\n",
       "      <td>0.000000</td>\n",
       "      <td>NaN</td>\n",
       "      <td>NaN</td>\n",
       "      <td>1.000000</td>\n",
       "      <td>-1.000000</td>\n",
       "      <td>NaN</td>\n",
       "      <td>NaN</td>\n",
       "      <td>0.000000</td>\n",
       "      <td>0.507752</td>\n",
       "      <td>NaN</td>\n",
       "      <td>1.000000</td>\n",
       "      <td>-1.000000</td>\n",
       "      <td>NaN</td>\n",
       "    </tr>\n",
       "    <tr>\n",
       "      <th>Prediccion_host_is_superhost</th>\n",
       "      <td>NaN</td>\n",
       "      <td>NaN</td>\n",
       "      <td>NaN</td>\n",
       "      <td>NaN</td>\n",
       "      <td>NaN</td>\n",
       "      <td>NaN</td>\n",
       "      <td>NaN</td>\n",
       "      <td>NaN</td>\n",
       "      <td>NaN</td>\n",
       "      <td>NaN</td>\n",
       "      <td>NaN</td>\n",
       "      <td>NaN</td>\n",
       "      <td>NaN</td>\n",
       "      <td>NaN</td>\n",
       "      <td>NaN</td>\n",
       "      <td>NaN</td>\n",
       "    </tr>\n",
       "    <tr>\n",
       "      <th>Prediccion_host_identity_verified</th>\n",
       "      <td>NaN</td>\n",
       "      <td>NaN</td>\n",
       "      <td>NaN</td>\n",
       "      <td>NaN</td>\n",
       "      <td>NaN</td>\n",
       "      <td>NaN</td>\n",
       "      <td>NaN</td>\n",
       "      <td>NaN</td>\n",
       "      <td>NaN</td>\n",
       "      <td>NaN</td>\n",
       "      <td>NaN</td>\n",
       "      <td>NaN</td>\n",
       "      <td>NaN</td>\n",
       "      <td>NaN</td>\n",
       "      <td>NaN</td>\n",
       "      <td>NaN</td>\n",
       "    </tr>\n",
       "    <tr>\n",
       "      <th>Prediccion_property_type</th>\n",
       "      <td>0.000000</td>\n",
       "      <td>NaN</td>\n",
       "      <td>NaN</td>\n",
       "      <td>1.000000</td>\n",
       "      <td>NaN</td>\n",
       "      <td>NaN</td>\n",
       "      <td>0.000000</td>\n",
       "      <td>0.000000</td>\n",
       "      <td>NaN</td>\n",
       "      <td>NaN</td>\n",
       "      <td>1.000000</td>\n",
       "      <td>0.861504</td>\n",
       "      <td>NaN</td>\n",
       "      <td>0.000000</td>\n",
       "      <td>0.000000</td>\n",
       "      <td>NaN</td>\n",
       "    </tr>\n",
       "    <tr>\n",
       "      <th>Prediccion_instant_bookable</th>\n",
       "      <td>NaN</td>\n",
       "      <td>NaN</td>\n",
       "      <td>NaN</td>\n",
       "      <td>NaN</td>\n",
       "      <td>NaN</td>\n",
       "      <td>NaN</td>\n",
       "      <td>NaN</td>\n",
       "      <td>NaN</td>\n",
       "      <td>NaN</td>\n",
       "      <td>NaN</td>\n",
       "      <td>NaN</td>\n",
       "      <td>NaN</td>\n",
       "      <td>NaN</td>\n",
       "      <td>NaN</td>\n",
       "      <td>NaN</td>\n",
       "      <td>NaN</td>\n",
       "    </tr>\n",
       "    <tr>\n",
       "      <th>Prediccion_review_scores_cleanliness</th>\n",
       "      <td>NaN</td>\n",
       "      <td>NaN</td>\n",
       "      <td>NaN</td>\n",
       "      <td>NaN</td>\n",
       "      <td>NaN</td>\n",
       "      <td>NaN</td>\n",
       "      <td>NaN</td>\n",
       "      <td>NaN</td>\n",
       "      <td>NaN</td>\n",
       "      <td>NaN</td>\n",
       "      <td>NaN</td>\n",
       "      <td>NaN</td>\n",
       "      <td>NaN</td>\n",
       "      <td>NaN</td>\n",
       "      <td>NaN</td>\n",
       "      <td>NaN</td>\n",
       "    </tr>\n",
       "    <tr>\n",
       "      <th>Prediccion_bathrooms</th>\n",
       "      <td>1.000000</td>\n",
       "      <td>NaN</td>\n",
       "      <td>NaN</td>\n",
       "      <td>0.000000</td>\n",
       "      <td>NaN</td>\n",
       "      <td>NaN</td>\n",
       "      <td>1.000000</td>\n",
       "      <td>-1.000000</td>\n",
       "      <td>NaN</td>\n",
       "      <td>NaN</td>\n",
       "      <td>0.000000</td>\n",
       "      <td>0.507752</td>\n",
       "      <td>NaN</td>\n",
       "      <td>1.000000</td>\n",
       "      <td>-1.000000</td>\n",
       "      <td>NaN</td>\n",
       "    </tr>\n",
       "    <tr>\n",
       "      <th>host_acceptance_rate</th>\n",
       "      <td>-1.000000</td>\n",
       "      <td>NaN</td>\n",
       "      <td>NaN</td>\n",
       "      <td>0.000000</td>\n",
       "      <td>NaN</td>\n",
       "      <td>NaN</td>\n",
       "      <td>-1.000000</td>\n",
       "      <td>1.000000</td>\n",
       "      <td>NaN</td>\n",
       "      <td>NaN</td>\n",
       "      <td>0.000000</td>\n",
       "      <td>-0.507752</td>\n",
       "      <td>NaN</td>\n",
       "      <td>-1.000000</td>\n",
       "      <td>1.000000</td>\n",
       "      <td>NaN</td>\n",
       "    </tr>\n",
       "    <tr>\n",
       "      <th>host_is_superhost</th>\n",
       "      <td>NaN</td>\n",
       "      <td>NaN</td>\n",
       "      <td>NaN</td>\n",
       "      <td>NaN</td>\n",
       "      <td>NaN</td>\n",
       "      <td>NaN</td>\n",
       "      <td>NaN</td>\n",
       "      <td>NaN</td>\n",
       "      <td>NaN</td>\n",
       "      <td>NaN</td>\n",
       "      <td>NaN</td>\n",
       "      <td>NaN</td>\n",
       "      <td>NaN</td>\n",
       "      <td>NaN</td>\n",
       "      <td>NaN</td>\n",
       "      <td>NaN</td>\n",
       "    </tr>\n",
       "    <tr>\n",
       "      <th>host_identity_verified</th>\n",
       "      <td>NaN</td>\n",
       "      <td>NaN</td>\n",
       "      <td>NaN</td>\n",
       "      <td>NaN</td>\n",
       "      <td>NaN</td>\n",
       "      <td>NaN</td>\n",
       "      <td>NaN</td>\n",
       "      <td>NaN</td>\n",
       "      <td>NaN</td>\n",
       "      <td>NaN</td>\n",
       "      <td>NaN</td>\n",
       "      <td>NaN</td>\n",
       "      <td>NaN</td>\n",
       "      <td>NaN</td>\n",
       "      <td>NaN</td>\n",
       "      <td>NaN</td>\n",
       "    </tr>\n",
       "    <tr>\n",
       "      <th>property_type</th>\n",
       "      <td>0.000000</td>\n",
       "      <td>NaN</td>\n",
       "      <td>NaN</td>\n",
       "      <td>1.000000</td>\n",
       "      <td>NaN</td>\n",
       "      <td>NaN</td>\n",
       "      <td>0.000000</td>\n",
       "      <td>0.000000</td>\n",
       "      <td>NaN</td>\n",
       "      <td>NaN</td>\n",
       "      <td>1.000000</td>\n",
       "      <td>0.861504</td>\n",
       "      <td>NaN</td>\n",
       "      <td>0.000000</td>\n",
       "      <td>0.000000</td>\n",
       "      <td>NaN</td>\n",
       "    </tr>\n",
       "    <tr>\n",
       "      <th>price</th>\n",
       "      <td>0.507752</td>\n",
       "      <td>NaN</td>\n",
       "      <td>NaN</td>\n",
       "      <td>0.861504</td>\n",
       "      <td>NaN</td>\n",
       "      <td>NaN</td>\n",
       "      <td>0.507752</td>\n",
       "      <td>-0.507752</td>\n",
       "      <td>NaN</td>\n",
       "      <td>NaN</td>\n",
       "      <td>0.861504</td>\n",
       "      <td>1.000000</td>\n",
       "      <td>NaN</td>\n",
       "      <td>0.507752</td>\n",
       "      <td>-0.507752</td>\n",
       "      <td>NaN</td>\n",
       "    </tr>\n",
       "    <tr>\n",
       "      <th>instant_bookable</th>\n",
       "      <td>NaN</td>\n",
       "      <td>NaN</td>\n",
       "      <td>NaN</td>\n",
       "      <td>NaN</td>\n",
       "      <td>NaN</td>\n",
       "      <td>NaN</td>\n",
       "      <td>NaN</td>\n",
       "      <td>NaN</td>\n",
       "      <td>NaN</td>\n",
       "      <td>NaN</td>\n",
       "      <td>NaN</td>\n",
       "      <td>NaN</td>\n",
       "      <td>NaN</td>\n",
       "      <td>NaN</td>\n",
       "      <td>NaN</td>\n",
       "      <td>NaN</td>\n",
       "    </tr>\n",
       "    <tr>\n",
       "      <th>accommodates</th>\n",
       "      <td>1.000000</td>\n",
       "      <td>NaN</td>\n",
       "      <td>NaN</td>\n",
       "      <td>0.000000</td>\n",
       "      <td>NaN</td>\n",
       "      <td>NaN</td>\n",
       "      <td>1.000000</td>\n",
       "      <td>-1.000000</td>\n",
       "      <td>NaN</td>\n",
       "      <td>NaN</td>\n",
       "      <td>0.000000</td>\n",
       "      <td>0.507752</td>\n",
       "      <td>NaN</td>\n",
       "      <td>1.000000</td>\n",
       "      <td>-1.000000</td>\n",
       "      <td>NaN</td>\n",
       "    </tr>\n",
       "    <tr>\n",
       "      <th>bathrooms</th>\n",
       "      <td>-1.000000</td>\n",
       "      <td>NaN</td>\n",
       "      <td>NaN</td>\n",
       "      <td>0.000000</td>\n",
       "      <td>NaN</td>\n",
       "      <td>NaN</td>\n",
       "      <td>-1.000000</td>\n",
       "      <td>1.000000</td>\n",
       "      <td>NaN</td>\n",
       "      <td>NaN</td>\n",
       "      <td>0.000000</td>\n",
       "      <td>-0.507752</td>\n",
       "      <td>NaN</td>\n",
       "      <td>-1.000000</td>\n",
       "      <td>1.000000</td>\n",
       "      <td>NaN</td>\n",
       "    </tr>\n",
       "    <tr>\n",
       "      <th>review_scores_cleanliness</th>\n",
       "      <td>NaN</td>\n",
       "      <td>NaN</td>\n",
       "      <td>NaN</td>\n",
       "      <td>NaN</td>\n",
       "      <td>NaN</td>\n",
       "      <td>NaN</td>\n",
       "      <td>NaN</td>\n",
       "      <td>NaN</td>\n",
       "      <td>NaN</td>\n",
       "      <td>NaN</td>\n",
       "      <td>NaN</td>\n",
       "      <td>NaN</td>\n",
       "      <td>NaN</td>\n",
       "      <td>NaN</td>\n",
       "      <td>NaN</td>\n",
       "      <td>NaN</td>\n",
       "    </tr>\n",
       "  </tbody>\n",
       "</table>\n",
       "</div>"
      ],
      "text/plain": [
       "                                      Prediccion_host_acceptance_rate  \\\n",
       "Prediccion_host_acceptance_rate                              1.000000   \n",
       "Prediccion_host_is_superhost                                      NaN   \n",
       "Prediccion_host_identity_verified                                 NaN   \n",
       "Prediccion_property_type                                     0.000000   \n",
       "Prediccion_instant_bookable                                       NaN   \n",
       "Prediccion_review_scores_cleanliness                              NaN   \n",
       "Prediccion_bathrooms                                         1.000000   \n",
       "host_acceptance_rate                                        -1.000000   \n",
       "host_is_superhost                                                 NaN   \n",
       "host_identity_verified                                            NaN   \n",
       "property_type                                                0.000000   \n",
       "price                                                        0.507752   \n",
       "instant_bookable                                                  NaN   \n",
       "accommodates                                                 1.000000   \n",
       "bathrooms                                                   -1.000000   \n",
       "review_scores_cleanliness                                         NaN   \n",
       "\n",
       "                                      Prediccion_host_is_superhost  \\\n",
       "Prediccion_host_acceptance_rate                                NaN   \n",
       "Prediccion_host_is_superhost                                   NaN   \n",
       "Prediccion_host_identity_verified                              NaN   \n",
       "Prediccion_property_type                                       NaN   \n",
       "Prediccion_instant_bookable                                    NaN   \n",
       "Prediccion_review_scores_cleanliness                           NaN   \n",
       "Prediccion_bathrooms                                           NaN   \n",
       "host_acceptance_rate                                           NaN   \n",
       "host_is_superhost                                              NaN   \n",
       "host_identity_verified                                         NaN   \n",
       "property_type                                                  NaN   \n",
       "price                                                          NaN   \n",
       "instant_bookable                                               NaN   \n",
       "accommodates                                                   NaN   \n",
       "bathrooms                                                      NaN   \n",
       "review_scores_cleanliness                                      NaN   \n",
       "\n",
       "                                      Prediccion_host_identity_verified  \\\n",
       "Prediccion_host_acceptance_rate                                     NaN   \n",
       "Prediccion_host_is_superhost                                        NaN   \n",
       "Prediccion_host_identity_verified                                   NaN   \n",
       "Prediccion_property_type                                            NaN   \n",
       "Prediccion_instant_bookable                                         NaN   \n",
       "Prediccion_review_scores_cleanliness                                NaN   \n",
       "Prediccion_bathrooms                                                NaN   \n",
       "host_acceptance_rate                                                NaN   \n",
       "host_is_superhost                                                   NaN   \n",
       "host_identity_verified                                              NaN   \n",
       "property_type                                                       NaN   \n",
       "price                                                               NaN   \n",
       "instant_bookable                                                    NaN   \n",
       "accommodates                                                        NaN   \n",
       "bathrooms                                                           NaN   \n",
       "review_scores_cleanliness                                           NaN   \n",
       "\n",
       "                                      Prediccion_property_type  \\\n",
       "Prediccion_host_acceptance_rate                       0.000000   \n",
       "Prediccion_host_is_superhost                               NaN   \n",
       "Prediccion_host_identity_verified                          NaN   \n",
       "Prediccion_property_type                              1.000000   \n",
       "Prediccion_instant_bookable                                NaN   \n",
       "Prediccion_review_scores_cleanliness                       NaN   \n",
       "Prediccion_bathrooms                                  0.000000   \n",
       "host_acceptance_rate                                  0.000000   \n",
       "host_is_superhost                                          NaN   \n",
       "host_identity_verified                                     NaN   \n",
       "property_type                                         1.000000   \n",
       "price                                                 0.861504   \n",
       "instant_bookable                                           NaN   \n",
       "accommodates                                          0.000000   \n",
       "bathrooms                                             0.000000   \n",
       "review_scores_cleanliness                                  NaN   \n",
       "\n",
       "                                      Prediccion_instant_bookable  \\\n",
       "Prediccion_host_acceptance_rate                               NaN   \n",
       "Prediccion_host_is_superhost                                  NaN   \n",
       "Prediccion_host_identity_verified                             NaN   \n",
       "Prediccion_property_type                                      NaN   \n",
       "Prediccion_instant_bookable                                   NaN   \n",
       "Prediccion_review_scores_cleanliness                          NaN   \n",
       "Prediccion_bathrooms                                          NaN   \n",
       "host_acceptance_rate                                          NaN   \n",
       "host_is_superhost                                             NaN   \n",
       "host_identity_verified                                        NaN   \n",
       "property_type                                                 NaN   \n",
       "price                                                         NaN   \n",
       "instant_bookable                                              NaN   \n",
       "accommodates                                                  NaN   \n",
       "bathrooms                                                     NaN   \n",
       "review_scores_cleanliness                                     NaN   \n",
       "\n",
       "                                      Prediccion_review_scores_cleanliness  \\\n",
       "Prediccion_host_acceptance_rate                                        NaN   \n",
       "Prediccion_host_is_superhost                                           NaN   \n",
       "Prediccion_host_identity_verified                                      NaN   \n",
       "Prediccion_property_type                                               NaN   \n",
       "Prediccion_instant_bookable                                            NaN   \n",
       "Prediccion_review_scores_cleanliness                                   NaN   \n",
       "Prediccion_bathrooms                                                   NaN   \n",
       "host_acceptance_rate                                                   NaN   \n",
       "host_is_superhost                                                      NaN   \n",
       "host_identity_verified                                                 NaN   \n",
       "property_type                                                          NaN   \n",
       "price                                                                  NaN   \n",
       "instant_bookable                                                       NaN   \n",
       "accommodates                                                           NaN   \n",
       "bathrooms                                                              NaN   \n",
       "review_scores_cleanliness                                              NaN   \n",
       "\n",
       "                                      Prediccion_bathrooms  \\\n",
       "Prediccion_host_acceptance_rate                   1.000000   \n",
       "Prediccion_host_is_superhost                           NaN   \n",
       "Prediccion_host_identity_verified                      NaN   \n",
       "Prediccion_property_type                          0.000000   \n",
       "Prediccion_instant_bookable                            NaN   \n",
       "Prediccion_review_scores_cleanliness                   NaN   \n",
       "Prediccion_bathrooms                              1.000000   \n",
       "host_acceptance_rate                             -1.000000   \n",
       "host_is_superhost                                      NaN   \n",
       "host_identity_verified                                 NaN   \n",
       "property_type                                     0.000000   \n",
       "price                                             0.507752   \n",
       "instant_bookable                                       NaN   \n",
       "accommodates                                      1.000000   \n",
       "bathrooms                                        -1.000000   \n",
       "review_scores_cleanliness                              NaN   \n",
       "\n",
       "                                      host_acceptance_rate  host_is_superhost  \\\n",
       "Prediccion_host_acceptance_rate                  -1.000000                NaN   \n",
       "Prediccion_host_is_superhost                           NaN                NaN   \n",
       "Prediccion_host_identity_verified                      NaN                NaN   \n",
       "Prediccion_property_type                          0.000000                NaN   \n",
       "Prediccion_instant_bookable                            NaN                NaN   \n",
       "Prediccion_review_scores_cleanliness                   NaN                NaN   \n",
       "Prediccion_bathrooms                             -1.000000                NaN   \n",
       "host_acceptance_rate                              1.000000                NaN   \n",
       "host_is_superhost                                      NaN                NaN   \n",
       "host_identity_verified                                 NaN                NaN   \n",
       "property_type                                     0.000000                NaN   \n",
       "price                                            -0.507752                NaN   \n",
       "instant_bookable                                       NaN                NaN   \n",
       "accommodates                                     -1.000000                NaN   \n",
       "bathrooms                                         1.000000                NaN   \n",
       "review_scores_cleanliness                              NaN                NaN   \n",
       "\n",
       "                                      host_identity_verified  property_type  \\\n",
       "Prediccion_host_acceptance_rate                          NaN       0.000000   \n",
       "Prediccion_host_is_superhost                             NaN            NaN   \n",
       "Prediccion_host_identity_verified                        NaN            NaN   \n",
       "Prediccion_property_type                                 NaN       1.000000   \n",
       "Prediccion_instant_bookable                              NaN            NaN   \n",
       "Prediccion_review_scores_cleanliness                     NaN            NaN   \n",
       "Prediccion_bathrooms                                     NaN       0.000000   \n",
       "host_acceptance_rate                                     NaN       0.000000   \n",
       "host_is_superhost                                        NaN            NaN   \n",
       "host_identity_verified                                   NaN            NaN   \n",
       "property_type                                            NaN       1.000000   \n",
       "price                                                    NaN       0.861504   \n",
       "instant_bookable                                         NaN            NaN   \n",
       "accommodates                                             NaN       0.000000   \n",
       "bathrooms                                                NaN       0.000000   \n",
       "review_scores_cleanliness                                NaN            NaN   \n",
       "\n",
       "                                         price  instant_bookable  \\\n",
       "Prediccion_host_acceptance_rate       0.507752               NaN   \n",
       "Prediccion_host_is_superhost               NaN               NaN   \n",
       "Prediccion_host_identity_verified          NaN               NaN   \n",
       "Prediccion_property_type              0.861504               NaN   \n",
       "Prediccion_instant_bookable                NaN               NaN   \n",
       "Prediccion_review_scores_cleanliness       NaN               NaN   \n",
       "Prediccion_bathrooms                  0.507752               NaN   \n",
       "host_acceptance_rate                 -0.507752               NaN   \n",
       "host_is_superhost                          NaN               NaN   \n",
       "host_identity_verified                     NaN               NaN   \n",
       "property_type                         0.861504               NaN   \n",
       "price                                 1.000000               NaN   \n",
       "instant_bookable                           NaN               NaN   \n",
       "accommodates                          0.507752               NaN   \n",
       "bathrooms                            -0.507752               NaN   \n",
       "review_scores_cleanliness                  NaN               NaN   \n",
       "\n",
       "                                      accommodates  bathrooms  \\\n",
       "Prediccion_host_acceptance_rate           1.000000  -1.000000   \n",
       "Prediccion_host_is_superhost                   NaN        NaN   \n",
       "Prediccion_host_identity_verified              NaN        NaN   \n",
       "Prediccion_property_type                  0.000000   0.000000   \n",
       "Prediccion_instant_bookable                    NaN        NaN   \n",
       "Prediccion_review_scores_cleanliness           NaN        NaN   \n",
       "Prediccion_bathrooms                      1.000000  -1.000000   \n",
       "host_acceptance_rate                     -1.000000   1.000000   \n",
       "host_is_superhost                              NaN        NaN   \n",
       "host_identity_verified                         NaN        NaN   \n",
       "property_type                             0.000000   0.000000   \n",
       "price                                     0.507752  -0.507752   \n",
       "instant_bookable                               NaN        NaN   \n",
       "accommodates                              1.000000  -1.000000   \n",
       "bathrooms                                -1.000000   1.000000   \n",
       "review_scores_cleanliness                      NaN        NaN   \n",
       "\n",
       "                                      review_scores_cleanliness  \n",
       "Prediccion_host_acceptance_rate                             NaN  \n",
       "Prediccion_host_is_superhost                                NaN  \n",
       "Prediccion_host_identity_verified                           NaN  \n",
       "Prediccion_property_type                                    NaN  \n",
       "Prediccion_instant_bookable                                 NaN  \n",
       "Prediccion_review_scores_cleanliness                        NaN  \n",
       "Prediccion_bathrooms                                        NaN  \n",
       "host_acceptance_rate                                        NaN  \n",
       "host_is_superhost                                           NaN  \n",
       "host_identity_verified                                      NaN  \n",
       "property_type                                               NaN  \n",
       "price                                                       NaN  \n",
       "instant_bookable                                            NaN  \n",
       "accommodates                                                NaN  \n",
       "bathrooms                                                   NaN  \n",
       "review_scores_cleanliness                                   NaN  "
      ]
     },
     "execution_count": 80,
     "metadata": {},
     "output_type": "execute_result"
    }
   ],
   "source": [
    "#Encontramos todas las correlaciones entre las variables \n",
    "Corr_Factors= f2.corr()\n",
    "Corr_Factors"
   ]
  },
  {
   "cell_type": "code",
   "execution_count": 81,
   "metadata": {},
   "outputs": [
    {
     "data": {
      "text/html": [
       "<div>\n",
       "<style scoped>\n",
       "    .dataframe tbody tr th:only-of-type {\n",
       "        vertical-align: middle;\n",
       "    }\n",
       "\n",
       "    .dataframe tbody tr th {\n",
       "        vertical-align: top;\n",
       "    }\n",
       "\n",
       "    .dataframe thead th {\n",
       "        text-align: right;\n",
       "    }\n",
       "</style>\n",
       "<table border=\"1\" class=\"dataframe\">\n",
       "  <thead>\n",
       "    <tr style=\"text-align: right;\">\n",
       "      <th></th>\n",
       "      <th>Prediccion_host_acceptance_rate</th>\n",
       "      <th>Prediccion_host_is_superhost</th>\n",
       "      <th>Prediccion_host_identity_verified</th>\n",
       "      <th>Prediccion_property_type</th>\n",
       "      <th>Prediccion_instant_bookable</th>\n",
       "      <th>Prediccion_review_scores_cleanliness</th>\n",
       "      <th>Prediccion_bathrooms</th>\n",
       "      <th>host_acceptance_rate</th>\n",
       "      <th>host_is_superhost</th>\n",
       "      <th>host_identity_verified</th>\n",
       "      <th>property_type</th>\n",
       "      <th>price</th>\n",
       "      <th>instant_bookable</th>\n",
       "      <th>accommodates</th>\n",
       "      <th>bathrooms</th>\n",
       "      <th>review_scores_cleanliness</th>\n",
       "    </tr>\n",
       "  </thead>\n",
       "  <tbody>\n",
       "    <tr>\n",
       "      <th>Prediccion_host_acceptance_rate</th>\n",
       "      <td>1.000000</td>\n",
       "      <td>NaN</td>\n",
       "      <td>NaN</td>\n",
       "      <td>0.000000</td>\n",
       "      <td>NaN</td>\n",
       "      <td>NaN</td>\n",
       "      <td>1.000000</td>\n",
       "      <td>1.000000</td>\n",
       "      <td>NaN</td>\n",
       "      <td>NaN</td>\n",
       "      <td>0.000000</td>\n",
       "      <td>0.507752</td>\n",
       "      <td>NaN</td>\n",
       "      <td>1.000000</td>\n",
       "      <td>1.000000</td>\n",
       "      <td>NaN</td>\n",
       "    </tr>\n",
       "    <tr>\n",
       "      <th>Prediccion_host_is_superhost</th>\n",
       "      <td>NaN</td>\n",
       "      <td>NaN</td>\n",
       "      <td>NaN</td>\n",
       "      <td>NaN</td>\n",
       "      <td>NaN</td>\n",
       "      <td>NaN</td>\n",
       "      <td>NaN</td>\n",
       "      <td>NaN</td>\n",
       "      <td>NaN</td>\n",
       "      <td>NaN</td>\n",
       "      <td>NaN</td>\n",
       "      <td>NaN</td>\n",
       "      <td>NaN</td>\n",
       "      <td>NaN</td>\n",
       "      <td>NaN</td>\n",
       "      <td>NaN</td>\n",
       "    </tr>\n",
       "    <tr>\n",
       "      <th>Prediccion_host_identity_verified</th>\n",
       "      <td>NaN</td>\n",
       "      <td>NaN</td>\n",
       "      <td>NaN</td>\n",
       "      <td>NaN</td>\n",
       "      <td>NaN</td>\n",
       "      <td>NaN</td>\n",
       "      <td>NaN</td>\n",
       "      <td>NaN</td>\n",
       "      <td>NaN</td>\n",
       "      <td>NaN</td>\n",
       "      <td>NaN</td>\n",
       "      <td>NaN</td>\n",
       "      <td>NaN</td>\n",
       "      <td>NaN</td>\n",
       "      <td>NaN</td>\n",
       "      <td>NaN</td>\n",
       "    </tr>\n",
       "    <tr>\n",
       "      <th>Prediccion_property_type</th>\n",
       "      <td>0.000000</td>\n",
       "      <td>NaN</td>\n",
       "      <td>NaN</td>\n",
       "      <td>1.000000</td>\n",
       "      <td>NaN</td>\n",
       "      <td>NaN</td>\n",
       "      <td>0.000000</td>\n",
       "      <td>0.000000</td>\n",
       "      <td>NaN</td>\n",
       "      <td>NaN</td>\n",
       "      <td>1.000000</td>\n",
       "      <td>0.861504</td>\n",
       "      <td>NaN</td>\n",
       "      <td>0.000000</td>\n",
       "      <td>0.000000</td>\n",
       "      <td>NaN</td>\n",
       "    </tr>\n",
       "    <tr>\n",
       "      <th>Prediccion_instant_bookable</th>\n",
       "      <td>NaN</td>\n",
       "      <td>NaN</td>\n",
       "      <td>NaN</td>\n",
       "      <td>NaN</td>\n",
       "      <td>NaN</td>\n",
       "      <td>NaN</td>\n",
       "      <td>NaN</td>\n",
       "      <td>NaN</td>\n",
       "      <td>NaN</td>\n",
       "      <td>NaN</td>\n",
       "      <td>NaN</td>\n",
       "      <td>NaN</td>\n",
       "      <td>NaN</td>\n",
       "      <td>NaN</td>\n",
       "      <td>NaN</td>\n",
       "      <td>NaN</td>\n",
       "    </tr>\n",
       "    <tr>\n",
       "      <th>Prediccion_review_scores_cleanliness</th>\n",
       "      <td>NaN</td>\n",
       "      <td>NaN</td>\n",
       "      <td>NaN</td>\n",
       "      <td>NaN</td>\n",
       "      <td>NaN</td>\n",
       "      <td>NaN</td>\n",
       "      <td>NaN</td>\n",
       "      <td>NaN</td>\n",
       "      <td>NaN</td>\n",
       "      <td>NaN</td>\n",
       "      <td>NaN</td>\n",
       "      <td>NaN</td>\n",
       "      <td>NaN</td>\n",
       "      <td>NaN</td>\n",
       "      <td>NaN</td>\n",
       "      <td>NaN</td>\n",
       "    </tr>\n",
       "    <tr>\n",
       "      <th>Prediccion_bathrooms</th>\n",
       "      <td>1.000000</td>\n",
       "      <td>NaN</td>\n",
       "      <td>NaN</td>\n",
       "      <td>0.000000</td>\n",
       "      <td>NaN</td>\n",
       "      <td>NaN</td>\n",
       "      <td>1.000000</td>\n",
       "      <td>1.000000</td>\n",
       "      <td>NaN</td>\n",
       "      <td>NaN</td>\n",
       "      <td>0.000000</td>\n",
       "      <td>0.507752</td>\n",
       "      <td>NaN</td>\n",
       "      <td>1.000000</td>\n",
       "      <td>1.000000</td>\n",
       "      <td>NaN</td>\n",
       "    </tr>\n",
       "    <tr>\n",
       "      <th>host_acceptance_rate</th>\n",
       "      <td>1.000000</td>\n",
       "      <td>NaN</td>\n",
       "      <td>NaN</td>\n",
       "      <td>0.000000</td>\n",
       "      <td>NaN</td>\n",
       "      <td>NaN</td>\n",
       "      <td>1.000000</td>\n",
       "      <td>1.000000</td>\n",
       "      <td>NaN</td>\n",
       "      <td>NaN</td>\n",
       "      <td>0.000000</td>\n",
       "      <td>0.507752</td>\n",
       "      <td>NaN</td>\n",
       "      <td>1.000000</td>\n",
       "      <td>1.000000</td>\n",
       "      <td>NaN</td>\n",
       "    </tr>\n",
       "    <tr>\n",
       "      <th>host_is_superhost</th>\n",
       "      <td>NaN</td>\n",
       "      <td>NaN</td>\n",
       "      <td>NaN</td>\n",
       "      <td>NaN</td>\n",
       "      <td>NaN</td>\n",
       "      <td>NaN</td>\n",
       "      <td>NaN</td>\n",
       "      <td>NaN</td>\n",
       "      <td>NaN</td>\n",
       "      <td>NaN</td>\n",
       "      <td>NaN</td>\n",
       "      <td>NaN</td>\n",
       "      <td>NaN</td>\n",
       "      <td>NaN</td>\n",
       "      <td>NaN</td>\n",
       "      <td>NaN</td>\n",
       "    </tr>\n",
       "    <tr>\n",
       "      <th>host_identity_verified</th>\n",
       "      <td>NaN</td>\n",
       "      <td>NaN</td>\n",
       "      <td>NaN</td>\n",
       "      <td>NaN</td>\n",
       "      <td>NaN</td>\n",
       "      <td>NaN</td>\n",
       "      <td>NaN</td>\n",
       "      <td>NaN</td>\n",
       "      <td>NaN</td>\n",
       "      <td>NaN</td>\n",
       "      <td>NaN</td>\n",
       "      <td>NaN</td>\n",
       "      <td>NaN</td>\n",
       "      <td>NaN</td>\n",
       "      <td>NaN</td>\n",
       "      <td>NaN</td>\n",
       "    </tr>\n",
       "    <tr>\n",
       "      <th>property_type</th>\n",
       "      <td>0.000000</td>\n",
       "      <td>NaN</td>\n",
       "      <td>NaN</td>\n",
       "      <td>1.000000</td>\n",
       "      <td>NaN</td>\n",
       "      <td>NaN</td>\n",
       "      <td>0.000000</td>\n",
       "      <td>0.000000</td>\n",
       "      <td>NaN</td>\n",
       "      <td>NaN</td>\n",
       "      <td>1.000000</td>\n",
       "      <td>0.861504</td>\n",
       "      <td>NaN</td>\n",
       "      <td>0.000000</td>\n",
       "      <td>0.000000</td>\n",
       "      <td>NaN</td>\n",
       "    </tr>\n",
       "    <tr>\n",
       "      <th>price</th>\n",
       "      <td>0.507752</td>\n",
       "      <td>NaN</td>\n",
       "      <td>NaN</td>\n",
       "      <td>0.861504</td>\n",
       "      <td>NaN</td>\n",
       "      <td>NaN</td>\n",
       "      <td>0.507752</td>\n",
       "      <td>0.507752</td>\n",
       "      <td>NaN</td>\n",
       "      <td>NaN</td>\n",
       "      <td>0.861504</td>\n",
       "      <td>1.000000</td>\n",
       "      <td>NaN</td>\n",
       "      <td>0.507752</td>\n",
       "      <td>0.507752</td>\n",
       "      <td>NaN</td>\n",
       "    </tr>\n",
       "    <tr>\n",
       "      <th>instant_bookable</th>\n",
       "      <td>NaN</td>\n",
       "      <td>NaN</td>\n",
       "      <td>NaN</td>\n",
       "      <td>NaN</td>\n",
       "      <td>NaN</td>\n",
       "      <td>NaN</td>\n",
       "      <td>NaN</td>\n",
       "      <td>NaN</td>\n",
       "      <td>NaN</td>\n",
       "      <td>NaN</td>\n",
       "      <td>NaN</td>\n",
       "      <td>NaN</td>\n",
       "      <td>NaN</td>\n",
       "      <td>NaN</td>\n",
       "      <td>NaN</td>\n",
       "      <td>NaN</td>\n",
       "    </tr>\n",
       "    <tr>\n",
       "      <th>accommodates</th>\n",
       "      <td>1.000000</td>\n",
       "      <td>NaN</td>\n",
       "      <td>NaN</td>\n",
       "      <td>0.000000</td>\n",
       "      <td>NaN</td>\n",
       "      <td>NaN</td>\n",
       "      <td>1.000000</td>\n",
       "      <td>1.000000</td>\n",
       "      <td>NaN</td>\n",
       "      <td>NaN</td>\n",
       "      <td>0.000000</td>\n",
       "      <td>0.507752</td>\n",
       "      <td>NaN</td>\n",
       "      <td>1.000000</td>\n",
       "      <td>1.000000</td>\n",
       "      <td>NaN</td>\n",
       "    </tr>\n",
       "    <tr>\n",
       "      <th>bathrooms</th>\n",
       "      <td>1.000000</td>\n",
       "      <td>NaN</td>\n",
       "      <td>NaN</td>\n",
       "      <td>0.000000</td>\n",
       "      <td>NaN</td>\n",
       "      <td>NaN</td>\n",
       "      <td>1.000000</td>\n",
       "      <td>1.000000</td>\n",
       "      <td>NaN</td>\n",
       "      <td>NaN</td>\n",
       "      <td>0.000000</td>\n",
       "      <td>0.507752</td>\n",
       "      <td>NaN</td>\n",
       "      <td>1.000000</td>\n",
       "      <td>1.000000</td>\n",
       "      <td>NaN</td>\n",
       "    </tr>\n",
       "    <tr>\n",
       "      <th>review_scores_cleanliness</th>\n",
       "      <td>NaN</td>\n",
       "      <td>NaN</td>\n",
       "      <td>NaN</td>\n",
       "      <td>NaN</td>\n",
       "      <td>NaN</td>\n",
       "      <td>NaN</td>\n",
       "      <td>NaN</td>\n",
       "      <td>NaN</td>\n",
       "      <td>NaN</td>\n",
       "      <td>NaN</td>\n",
       "      <td>NaN</td>\n",
       "      <td>NaN</td>\n",
       "      <td>NaN</td>\n",
       "      <td>NaN</td>\n",
       "      <td>NaN</td>\n",
       "      <td>NaN</td>\n",
       "    </tr>\n",
       "  </tbody>\n",
       "</table>\n",
       "</div>"
      ],
      "text/plain": [
       "                                      Prediccion_host_acceptance_rate  \\\n",
       "Prediccion_host_acceptance_rate                              1.000000   \n",
       "Prediccion_host_is_superhost                                      NaN   \n",
       "Prediccion_host_identity_verified                                 NaN   \n",
       "Prediccion_property_type                                     0.000000   \n",
       "Prediccion_instant_bookable                                       NaN   \n",
       "Prediccion_review_scores_cleanliness                              NaN   \n",
       "Prediccion_bathrooms                                         1.000000   \n",
       "host_acceptance_rate                                         1.000000   \n",
       "host_is_superhost                                                 NaN   \n",
       "host_identity_verified                                            NaN   \n",
       "property_type                                                0.000000   \n",
       "price                                                        0.507752   \n",
       "instant_bookable                                                  NaN   \n",
       "accommodates                                                 1.000000   \n",
       "bathrooms                                                    1.000000   \n",
       "review_scores_cleanliness                                         NaN   \n",
       "\n",
       "                                      Prediccion_host_is_superhost  \\\n",
       "Prediccion_host_acceptance_rate                                NaN   \n",
       "Prediccion_host_is_superhost                                   NaN   \n",
       "Prediccion_host_identity_verified                              NaN   \n",
       "Prediccion_property_type                                       NaN   \n",
       "Prediccion_instant_bookable                                    NaN   \n",
       "Prediccion_review_scores_cleanliness                           NaN   \n",
       "Prediccion_bathrooms                                           NaN   \n",
       "host_acceptance_rate                                           NaN   \n",
       "host_is_superhost                                              NaN   \n",
       "host_identity_verified                                         NaN   \n",
       "property_type                                                  NaN   \n",
       "price                                                          NaN   \n",
       "instant_bookable                                               NaN   \n",
       "accommodates                                                   NaN   \n",
       "bathrooms                                                      NaN   \n",
       "review_scores_cleanliness                                      NaN   \n",
       "\n",
       "                                      Prediccion_host_identity_verified  \\\n",
       "Prediccion_host_acceptance_rate                                     NaN   \n",
       "Prediccion_host_is_superhost                                        NaN   \n",
       "Prediccion_host_identity_verified                                   NaN   \n",
       "Prediccion_property_type                                            NaN   \n",
       "Prediccion_instant_bookable                                         NaN   \n",
       "Prediccion_review_scores_cleanliness                                NaN   \n",
       "Prediccion_bathrooms                                                NaN   \n",
       "host_acceptance_rate                                                NaN   \n",
       "host_is_superhost                                                   NaN   \n",
       "host_identity_verified                                              NaN   \n",
       "property_type                                                       NaN   \n",
       "price                                                               NaN   \n",
       "instant_bookable                                                    NaN   \n",
       "accommodates                                                        NaN   \n",
       "bathrooms                                                           NaN   \n",
       "review_scores_cleanliness                                           NaN   \n",
       "\n",
       "                                      Prediccion_property_type  \\\n",
       "Prediccion_host_acceptance_rate                       0.000000   \n",
       "Prediccion_host_is_superhost                               NaN   \n",
       "Prediccion_host_identity_verified                          NaN   \n",
       "Prediccion_property_type                              1.000000   \n",
       "Prediccion_instant_bookable                                NaN   \n",
       "Prediccion_review_scores_cleanliness                       NaN   \n",
       "Prediccion_bathrooms                                  0.000000   \n",
       "host_acceptance_rate                                  0.000000   \n",
       "host_is_superhost                                          NaN   \n",
       "host_identity_verified                                     NaN   \n",
       "property_type                                         1.000000   \n",
       "price                                                 0.861504   \n",
       "instant_bookable                                           NaN   \n",
       "accommodates                                          0.000000   \n",
       "bathrooms                                             0.000000   \n",
       "review_scores_cleanliness                                  NaN   \n",
       "\n",
       "                                      Prediccion_instant_bookable  \\\n",
       "Prediccion_host_acceptance_rate                               NaN   \n",
       "Prediccion_host_is_superhost                                  NaN   \n",
       "Prediccion_host_identity_verified                             NaN   \n",
       "Prediccion_property_type                                      NaN   \n",
       "Prediccion_instant_bookable                                   NaN   \n",
       "Prediccion_review_scores_cleanliness                          NaN   \n",
       "Prediccion_bathrooms                                          NaN   \n",
       "host_acceptance_rate                                          NaN   \n",
       "host_is_superhost                                             NaN   \n",
       "host_identity_verified                                        NaN   \n",
       "property_type                                                 NaN   \n",
       "price                                                         NaN   \n",
       "instant_bookable                                              NaN   \n",
       "accommodates                                                  NaN   \n",
       "bathrooms                                                     NaN   \n",
       "review_scores_cleanliness                                     NaN   \n",
       "\n",
       "                                      Prediccion_review_scores_cleanliness  \\\n",
       "Prediccion_host_acceptance_rate                                        NaN   \n",
       "Prediccion_host_is_superhost                                           NaN   \n",
       "Prediccion_host_identity_verified                                      NaN   \n",
       "Prediccion_property_type                                               NaN   \n",
       "Prediccion_instant_bookable                                            NaN   \n",
       "Prediccion_review_scores_cleanliness                                   NaN   \n",
       "Prediccion_bathrooms                                                   NaN   \n",
       "host_acceptance_rate                                                   NaN   \n",
       "host_is_superhost                                                      NaN   \n",
       "host_identity_verified                                                 NaN   \n",
       "property_type                                                          NaN   \n",
       "price                                                                  NaN   \n",
       "instant_bookable                                                       NaN   \n",
       "accommodates                                                           NaN   \n",
       "bathrooms                                                              NaN   \n",
       "review_scores_cleanliness                                              NaN   \n",
       "\n",
       "                                      Prediccion_bathrooms  \\\n",
       "Prediccion_host_acceptance_rate                   1.000000   \n",
       "Prediccion_host_is_superhost                           NaN   \n",
       "Prediccion_host_identity_verified                      NaN   \n",
       "Prediccion_property_type                          0.000000   \n",
       "Prediccion_instant_bookable                            NaN   \n",
       "Prediccion_review_scores_cleanliness                   NaN   \n",
       "Prediccion_bathrooms                              1.000000   \n",
       "host_acceptance_rate                              1.000000   \n",
       "host_is_superhost                                      NaN   \n",
       "host_identity_verified                                 NaN   \n",
       "property_type                                     0.000000   \n",
       "price                                             0.507752   \n",
       "instant_bookable                                       NaN   \n",
       "accommodates                                      1.000000   \n",
       "bathrooms                                         1.000000   \n",
       "review_scores_cleanliness                              NaN   \n",
       "\n",
       "                                      host_acceptance_rate  host_is_superhost  \\\n",
       "Prediccion_host_acceptance_rate                   1.000000                NaN   \n",
       "Prediccion_host_is_superhost                           NaN                NaN   \n",
       "Prediccion_host_identity_verified                      NaN                NaN   \n",
       "Prediccion_property_type                          0.000000                NaN   \n",
       "Prediccion_instant_bookable                            NaN                NaN   \n",
       "Prediccion_review_scores_cleanliness                   NaN                NaN   \n",
       "Prediccion_bathrooms                              1.000000                NaN   \n",
       "host_acceptance_rate                              1.000000                NaN   \n",
       "host_is_superhost                                      NaN                NaN   \n",
       "host_identity_verified                                 NaN                NaN   \n",
       "property_type                                     0.000000                NaN   \n",
       "price                                             0.507752                NaN   \n",
       "instant_bookable                                       NaN                NaN   \n",
       "accommodates                                      1.000000                NaN   \n",
       "bathrooms                                         1.000000                NaN   \n",
       "review_scores_cleanliness                              NaN                NaN   \n",
       "\n",
       "                                      host_identity_verified  property_type  \\\n",
       "Prediccion_host_acceptance_rate                          NaN       0.000000   \n",
       "Prediccion_host_is_superhost                             NaN            NaN   \n",
       "Prediccion_host_identity_verified                        NaN            NaN   \n",
       "Prediccion_property_type                                 NaN       1.000000   \n",
       "Prediccion_instant_bookable                              NaN            NaN   \n",
       "Prediccion_review_scores_cleanliness                     NaN            NaN   \n",
       "Prediccion_bathrooms                                     NaN       0.000000   \n",
       "host_acceptance_rate                                     NaN       0.000000   \n",
       "host_is_superhost                                        NaN            NaN   \n",
       "host_identity_verified                                   NaN            NaN   \n",
       "property_type                                            NaN       1.000000   \n",
       "price                                                    NaN       0.861504   \n",
       "instant_bookable                                         NaN            NaN   \n",
       "accommodates                                             NaN       0.000000   \n",
       "bathrooms                                                NaN       0.000000   \n",
       "review_scores_cleanliness                                NaN            NaN   \n",
       "\n",
       "                                         price  instant_bookable  \\\n",
       "Prediccion_host_acceptance_rate       0.507752               NaN   \n",
       "Prediccion_host_is_superhost               NaN               NaN   \n",
       "Prediccion_host_identity_verified          NaN               NaN   \n",
       "Prediccion_property_type              0.861504               NaN   \n",
       "Prediccion_instant_bookable                NaN               NaN   \n",
       "Prediccion_review_scores_cleanliness       NaN               NaN   \n",
       "Prediccion_bathrooms                  0.507752               NaN   \n",
       "host_acceptance_rate                  0.507752               NaN   \n",
       "host_is_superhost                          NaN               NaN   \n",
       "host_identity_verified                     NaN               NaN   \n",
       "property_type                         0.861504               NaN   \n",
       "price                                 1.000000               NaN   \n",
       "instant_bookable                           NaN               NaN   \n",
       "accommodates                          0.507752               NaN   \n",
       "bathrooms                             0.507752               NaN   \n",
       "review_scores_cleanliness                  NaN               NaN   \n",
       "\n",
       "                                      accommodates  bathrooms  \\\n",
       "Prediccion_host_acceptance_rate           1.000000   1.000000   \n",
       "Prediccion_host_is_superhost                   NaN        NaN   \n",
       "Prediccion_host_identity_verified              NaN        NaN   \n",
       "Prediccion_property_type                  0.000000   0.000000   \n",
       "Prediccion_instant_bookable                    NaN        NaN   \n",
       "Prediccion_review_scores_cleanliness           NaN        NaN   \n",
       "Prediccion_bathrooms                      1.000000   1.000000   \n",
       "host_acceptance_rate                      1.000000   1.000000   \n",
       "host_is_superhost                              NaN        NaN   \n",
       "host_identity_verified                         NaN        NaN   \n",
       "property_type                             0.000000   0.000000   \n",
       "price                                     0.507752   0.507752   \n",
       "instant_bookable                               NaN        NaN   \n",
       "accommodates                              1.000000   1.000000   \n",
       "bathrooms                                 1.000000   1.000000   \n",
       "review_scores_cleanliness                      NaN        NaN   \n",
       "\n",
       "                                      review_scores_cleanliness  \n",
       "Prediccion_host_acceptance_rate                             NaN  \n",
       "Prediccion_host_is_superhost                                NaN  \n",
       "Prediccion_host_identity_verified                           NaN  \n",
       "Prediccion_property_type                                    NaN  \n",
       "Prediccion_instant_bookable                                 NaN  \n",
       "Prediccion_review_scores_cleanliness                        NaN  \n",
       "Prediccion_bathrooms                                        NaN  \n",
       "host_acceptance_rate                                        NaN  \n",
       "host_is_superhost                                           NaN  \n",
       "host_identity_verified                                      NaN  \n",
       "property_type                                               NaN  \n",
       "price                                                       NaN  \n",
       "instant_bookable                                            NaN  \n",
       "accommodates                                                NaN  \n",
       "bathrooms                                                   NaN  \n",
       "review_scores_cleanliness                                   NaN  "
      ]
     },
     "execution_count": 81,
     "metadata": {},
     "output_type": "execute_result"
    }
   ],
   "source": [
    "#Encontramos el valor absoluto de todas las correlaciones entre las variables \n",
    "Corr_Factors1= abs(Corr_Factors)\n",
    "Corr_Factors1"
   ]
  },
  {
   "cell_type": "code",
   "execution_count": 82,
   "metadata": {},
   "outputs": [
    {
     "data": {
      "text/plain": [
       "<Axes: >"
      ]
     },
     "execution_count": 82,
     "metadata": {},
     "output_type": "execute_result"
    },
    {
     "data": {
      "image/png": "[encoded data removed]",
      "text/plain": [
       "<Figure size 640x480 with 2 Axes>"
      ]
     },
     "metadata": {},
     "output_type": "display_data"
    }
   ],
   "source": [
    "#Graficamos el mapa de calor de las coeficientes de correlación \n",
    "Heat_map = sns.heatmap(Corr_Factors1, cmap= 'coolwarm')\n",
    "Heat_map"
   ]
  },
  {
   "cell_type": "code",
   "execution_count": 83,
   "metadata": {},
   "outputs": [
    {
     "name": "stderr",
     "output_type": "stream",
     "text": [
      "c:\\Users\\ben31\\AppData\\Local\\Programs\\Python\\Python312\\Lib\\site-packages\\seaborn\\matrix.py:260: FutureWarning: Format strings passed to MaskedConstant are ignored, but in future may error or produce different behavior\n",
      "  annotation = (\"{:\" + self.fmt + \"}\").format(val)\n"
     ]
    },
    {
     "data": {
      "text/plain": [
       "<Axes: >"
      ]
     },
     "execution_count": 83,
     "metadata": {},
     "output_type": "execute_result"
    },
    {
     "data": {
      "image/png": "[encoded data removed]",
      "text/plain": [
       "<Figure size 1200x800 with 2 Axes>"
      ]
     },
     "metadata": {},
     "output_type": "display_data"
    }
   ],
   "source": [
    "#Ajustamos el mapa de calor de las coeficientes de correlación \n",
    "plt.figure(figsize=(12,8))\n",
    "Heat_map = sns.heatmap(Corr_Factors1, cmap= 'Greens', annot=True, fmt=\".2f\")\n",
    "Heat_map"
   ]
  }
 ],
 "metadata": {
  "kernelspec": {
   "display_name": "Python 3",
   "language": "python",
   "name": "python3"
  },
  "language_info": {
   "codemirror_mode": {
    "name": "ipython",
    "version": 3
   },
   "file_extension": ".py",
   "mimetype": "text/x-python",
   "name": "python",
   "nbconvert_exporter": "python",
   "pygments_lexer": "ipython3",
   "version": "3.12.9"
  }
 },
 "nbformat": 4,
 "nbformat_minor": 2
}
